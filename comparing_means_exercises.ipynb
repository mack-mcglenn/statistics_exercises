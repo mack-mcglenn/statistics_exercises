{
 "cells": [
  {
   "cell_type": "code",
   "execution_count": 39,
   "id": "73da334f",
   "metadata": {},
   "outputs": [],
   "source": [
    "import numpy as np\n",
    "import seaborn as sns\n",
    "import scipy.stats as stats\n",
    "import pandas as pd\n",
    "import matplotlib.pyplot as plt\n",
    "from pydataset import data\n",
    "from math import sqrt"
   ]
  },
  {
   "cell_type": "code",
   "execution_count": null,
   "id": "422ceee8",
   "metadata": {},
   "outputs": [],
   "source": [
    "\n",
    "\n",
    "# Exercise 1: Answer with the type of test you would use (assume normal distribution):\n"
   ]
  },
  {
   "cell_type": "code",
   "execution_count": 100,
   "id": "bcbcbd9b",
   "metadata": {},
   "outputs": [
    {
     "name": "stdout",
     "output_type": "stream",
     "text": [
      "Solution: Two tailed, one sample test\n"
     ]
    }
   ],
   "source": [
    "# Exercise 1.1: Is there a difference in grades of students on the second floor compared to grades of all students?\n",
    "\n",
    "# Looking to observe DIFFERENCE, not trying to see if one is < or > the other. So two tailed\n",
    "# Comparing a subset of a population to the entire population, so 1- sample\n",
    "\n",
    "print('Solution: Two tailed, one sample -ttest')"
   ]
  },
  {
   "cell_type": "code",
   "execution_count": 101,
   "id": "99f1e6aa",
   "metadata": {},
   "outputs": [
    {
     "name": "stdout",
     "output_type": "stream",
     "text": [
      "Solution: One tailed, two sampled (or independent) t-test\n"
     ]
    }
   ],
   "source": [
    "# Exercise 1.2: Are adults who drink milk taller than adults who dont drink milk?\n",
    "\n",
    "# Looking to see if one group is < or > another, so 1 tail\n",
    "#  Comparing drinkers w/ non-drinkers (2 groups), so 2 sample\n",
    "\n",
    "print('Solution: One tailed, two sampled (or independent) t-test')"
   ]
  },
  {
   "cell_type": "code",
   "execution_count": 102,
   "id": "97fc1287",
   "metadata": {},
   "outputs": [
    {
     "name": "stdout",
     "output_type": "stream",
     "text": [
      "Solution: One tailed, two sampled test\n"
     ]
    }
   ],
   "source": [
    "# Exercise 1.3: Is the the price of gas higher in texas or in new mexico?\n",
    "\n",
    "# Comparing 2 independent states, so 2 sample \n",
    "# Question specified that I'm looking for which is higher (< or >), so 1 tailed\n",
    "\n",
    "print('Solution: One tailed, two sampled test')"
   ]
  },
  {
   "cell_type": "code",
   "execution_count": 103,
   "id": "aa01d434",
   "metadata": {},
   "outputs": [
    {
     "name": "stdout",
     "output_type": "stream",
     "text": [
      "Solution: Anova test\n"
     ]
    }
   ],
   "source": [
    "# Exercise 1.4: Are there differences in stress levels between students who take data science vs students who take web development vs students who take cloud academy?\n",
    "\n",
    "# Looking for differences, BUT accounting for more than 2 groups\n",
    "\n",
    "print('Solution: Anova test')"
   ]
  },
  {
   "cell_type": "code",
   "execution_count": null,
   "id": "d7a309c8",
   "metadata": {},
   "outputs": [],
   "source": [
    "\n",
    "# Exercise 2: Ace Realty wants to determine whether the average time it takes to sell\n",
    "# homes is different for its two offices. \n",
    "# A sample of 40 sales from office #1 revealed a mean of 90 days \n",
    "# and a standard deviation of 15 days. A sample of 50 sales from office #2 revealed \n",
    "# a mean of 100 days and a standard deviation of 20 days. Use a .05 level of significance.\n",
    "\n"
   ]
  },
  {
   "cell_type": "code",
   "execution_count": null,
   "id": "7005ca81",
   "metadata": {},
   "outputs": [],
   "source": [
    "#I'm comparing two averages (time to sell) for two different groups (office 1 & office 2)\n",
    "# I have two samples that are different sizes, one from each office, so I know that this is a two sample\n",
    "# test.\n",
    "#I'm only looking for a difference, not specifically an increase or decrease between the means, so this\n",
    "# is a two-tailed test\n",
    "# I have a significance level of .05\n",
    "\n",
    "Hypothesis: The average time it takes to sell homes at 'O1' is not equal to the avg time it \n",
    "takes to sell at 'O2'\n",
    "Null: The average time it takes to sell homes at 'O1' is equal to the avg time it \n",
    "takes to sell at 'O2'\n",
    "\n"
   ]
  },
  {
   "cell_type": "code",
   "execution_count": 40,
   "id": "fb7c2302",
   "metadata": {},
   "outputs": [
    {
     "data": {
      "text/plain": [
       "array([ 68.52832572,  90.35208419,  94.7509787 , 107.64764959,\n",
       "        73.59131206, 102.06150118,  93.05540305,  90.67990599,\n",
       "        73.00510101, 107.49983378,  82.57279307,  78.499941  ,\n",
       "        84.93979181,  80.42121569,  87.89887775,  77.69422408,\n",
       "        96.42683756,  65.70668962,  69.11128464, 103.24282444,\n",
       "       105.50016514, 101.39267637,  89.35127028,  83.73383657,\n",
       "       105.96536908, 106.86992441,  83.21027554,  62.79979767,\n",
       "        56.79317386,  86.20177435,  94.49517356,  91.53511635,\n",
       "        68.00415695,  79.11724291,  71.10323276,  88.12388874,\n",
       "       101.42068146,  99.58562796, 100.94853758,  79.96582303])"
      ]
     },
     "execution_count": 40,
     "metadata": {},
     "output_type": "execute_result"
    }
   ],
   "source": [
    "michaelscott= stats.norm(90, 15).rvs(40)\n",
    "michaelscott"
   ]
  },
  {
   "cell_type": "code",
   "execution_count": 46,
   "id": "6199198a",
   "metadata": {},
   "outputs": [
    {
     "data": {
      "text/plain": [
       "array([ 92.95214108,  90.96110242, 110.65170323, 105.42584145,\n",
       "       120.26930796,  63.59904056, 101.69569046, 122.82828537,\n",
       "        86.43991969,  92.25447433, 111.47725239, 108.11743506,\n",
       "        95.91027038, 120.44290591, 120.79175505,  83.45192167,\n",
       "        79.99777701,  74.35824823,  92.7149511 ,  72.74263808,\n",
       "       118.04721612, 123.67553179, 103.62927231, 112.0180336 ,\n",
       "       109.14281799, 119.37169289, 113.2449143 , 124.49139811,\n",
       "       135.71825307,  72.64549695, 106.91754594,  85.84877774,\n",
       "        94.49709474,  82.36668428, 133.38572646, 115.93575124,\n",
       "       105.34367522, 115.00203036,  93.52236807, 118.16835539,\n",
       "        80.00641701, 106.44181265,  80.13299357, 125.76700735,\n",
       "       111.50512651,  87.55445093, 104.68814659,  93.81450338,\n",
       "        84.26741064,  95.80331947])"
      ]
     },
     "execution_count": 46,
     "metadata": {},
     "output_type": "execute_result"
    }
   ],
   "source": [
    "dwightschrute= stats.norm(100,20).rvs(50)\n",
    "dwightschrute"
   ]
  },
  {
   "cell_type": "code",
   "execution_count": 70,
   "id": "aac9bea5",
   "metadata": {},
   "outputs": [
    {
     "data": {
      "text/plain": [
       "186.54030189990587"
      ]
     },
     "execution_count": 70,
     "metadata": {},
     "output_type": "execute_result"
    }
   ],
   "source": [
    "michaelscott.var()"
   ]
  },
  {
   "cell_type": "code",
   "execution_count": 71,
   "id": "4113ea73",
   "metadata": {},
   "outputs": [
    {
     "data": {
      "text/plain": [
       "295.35903033208325"
      ]
     },
     "execution_count": 71,
     "metadata": {},
     "output_type": "execute_result"
    }
   ],
   "source": [
    "dwightschrute.var()"
   ]
  },
  {
   "cell_type": "code",
   "execution_count": 59,
   "id": "98aac613",
   "metadata": {},
   "outputs": [
    {
     "name": "stdout",
     "output_type": "stream",
     "text": [
      "Fail to reject the null hypothesis and assume equal variance\n"
     ]
    },
    {
     "data": {
      "text/plain": [
       "(2.766755275134973, 0.09979866243318726)"
      ]
     },
     "execution_count": 59,
     "metadata": {},
     "output_type": "execute_result"
    }
   ],
   "source": [
    "stat, p_val = stats.levene(michaelscott, dwightschrute)\n",
    "\n",
    "if p_val < 0.05:\n",
    "    print('Reject the null hypothesis due to inequal variety')\n",
    "else:\n",
    "    print('Fail to reject the null hypothesis and assume equal variance')\n",
    "    \n",
    "stat, p_val"
   ]
  },
  {
   "cell_type": "code",
   "execution_count": null,
   "id": "5887c3ab",
   "metadata": {},
   "outputs": [],
   "source": [
    "# Exercise 3: Load the mpg dataset and use it to answer the following questions:\n",
    "\n",
    "#    3.1: Is there a difference in fuel-efficiency in cars from 2008 vs 1999?\n",
    "#    3.2: Are compact cars more fuel-efficient than the average car?\n",
    "#    3.3: Do manual cars get better gas mileage than automatic cars?\n",
    "\n"
   ]
  },
  {
   "cell_type": "code",
   "execution_count": 60,
   "id": "fe4c21b8",
   "metadata": {},
   "outputs": [
    {
     "data": {
      "text/html": [
       "<div>\n",
       "<style scoped>\n",
       "    .dataframe tbody tr th:only-of-type {\n",
       "        vertical-align: middle;\n",
       "    }\n",
       "\n",
       "    .dataframe tbody tr th {\n",
       "        vertical-align: top;\n",
       "    }\n",
       "\n",
       "    .dataframe thead th {\n",
       "        text-align: right;\n",
       "    }\n",
       "</style>\n",
       "<table border=\"1\" class=\"dataframe\">\n",
       "  <thead>\n",
       "    <tr style=\"text-align: right;\">\n",
       "      <th></th>\n",
       "      <th>manufacturer</th>\n",
       "      <th>model</th>\n",
       "      <th>displ</th>\n",
       "      <th>year</th>\n",
       "      <th>cyl</th>\n",
       "      <th>trans</th>\n",
       "      <th>drv</th>\n",
       "      <th>cty</th>\n",
       "      <th>hwy</th>\n",
       "      <th>fl</th>\n",
       "      <th>class</th>\n",
       "    </tr>\n",
       "  </thead>\n",
       "  <tbody>\n",
       "    <tr>\n",
       "      <th>1</th>\n",
       "      <td>audi</td>\n",
       "      <td>a4</td>\n",
       "      <td>1.8</td>\n",
       "      <td>1999</td>\n",
       "      <td>4</td>\n",
       "      <td>auto(l5)</td>\n",
       "      <td>f</td>\n",
       "      <td>18</td>\n",
       "      <td>29</td>\n",
       "      <td>p</td>\n",
       "      <td>compact</td>\n",
       "    </tr>\n",
       "    <tr>\n",
       "      <th>2</th>\n",
       "      <td>audi</td>\n",
       "      <td>a4</td>\n",
       "      <td>1.8</td>\n",
       "      <td>1999</td>\n",
       "      <td>4</td>\n",
       "      <td>manual(m5)</td>\n",
       "      <td>f</td>\n",
       "      <td>21</td>\n",
       "      <td>29</td>\n",
       "      <td>p</td>\n",
       "      <td>compact</td>\n",
       "    </tr>\n",
       "    <tr>\n",
       "      <th>3</th>\n",
       "      <td>audi</td>\n",
       "      <td>a4</td>\n",
       "      <td>2.0</td>\n",
       "      <td>2008</td>\n",
       "      <td>4</td>\n",
       "      <td>manual(m6)</td>\n",
       "      <td>f</td>\n",
       "      <td>20</td>\n",
       "      <td>31</td>\n",
       "      <td>p</td>\n",
       "      <td>compact</td>\n",
       "    </tr>\n",
       "    <tr>\n",
       "      <th>4</th>\n",
       "      <td>audi</td>\n",
       "      <td>a4</td>\n",
       "      <td>2.0</td>\n",
       "      <td>2008</td>\n",
       "      <td>4</td>\n",
       "      <td>auto(av)</td>\n",
       "      <td>f</td>\n",
       "      <td>21</td>\n",
       "      <td>30</td>\n",
       "      <td>p</td>\n",
       "      <td>compact</td>\n",
       "    </tr>\n",
       "    <tr>\n",
       "      <th>5</th>\n",
       "      <td>audi</td>\n",
       "      <td>a4</td>\n",
       "      <td>2.8</td>\n",
       "      <td>1999</td>\n",
       "      <td>6</td>\n",
       "      <td>auto(l5)</td>\n",
       "      <td>f</td>\n",
       "      <td>16</td>\n",
       "      <td>26</td>\n",
       "      <td>p</td>\n",
       "      <td>compact</td>\n",
       "    </tr>\n",
       "    <tr>\n",
       "      <th>...</th>\n",
       "      <td>...</td>\n",
       "      <td>...</td>\n",
       "      <td>...</td>\n",
       "      <td>...</td>\n",
       "      <td>...</td>\n",
       "      <td>...</td>\n",
       "      <td>...</td>\n",
       "      <td>...</td>\n",
       "      <td>...</td>\n",
       "      <td>...</td>\n",
       "      <td>...</td>\n",
       "    </tr>\n",
       "    <tr>\n",
       "      <th>230</th>\n",
       "      <td>volkswagen</td>\n",
       "      <td>passat</td>\n",
       "      <td>2.0</td>\n",
       "      <td>2008</td>\n",
       "      <td>4</td>\n",
       "      <td>auto(s6)</td>\n",
       "      <td>f</td>\n",
       "      <td>19</td>\n",
       "      <td>28</td>\n",
       "      <td>p</td>\n",
       "      <td>midsize</td>\n",
       "    </tr>\n",
       "    <tr>\n",
       "      <th>231</th>\n",
       "      <td>volkswagen</td>\n",
       "      <td>passat</td>\n",
       "      <td>2.0</td>\n",
       "      <td>2008</td>\n",
       "      <td>4</td>\n",
       "      <td>manual(m6)</td>\n",
       "      <td>f</td>\n",
       "      <td>21</td>\n",
       "      <td>29</td>\n",
       "      <td>p</td>\n",
       "      <td>midsize</td>\n",
       "    </tr>\n",
       "    <tr>\n",
       "      <th>232</th>\n",
       "      <td>volkswagen</td>\n",
       "      <td>passat</td>\n",
       "      <td>2.8</td>\n",
       "      <td>1999</td>\n",
       "      <td>6</td>\n",
       "      <td>auto(l5)</td>\n",
       "      <td>f</td>\n",
       "      <td>16</td>\n",
       "      <td>26</td>\n",
       "      <td>p</td>\n",
       "      <td>midsize</td>\n",
       "    </tr>\n",
       "    <tr>\n",
       "      <th>233</th>\n",
       "      <td>volkswagen</td>\n",
       "      <td>passat</td>\n",
       "      <td>2.8</td>\n",
       "      <td>1999</td>\n",
       "      <td>6</td>\n",
       "      <td>manual(m5)</td>\n",
       "      <td>f</td>\n",
       "      <td>18</td>\n",
       "      <td>26</td>\n",
       "      <td>p</td>\n",
       "      <td>midsize</td>\n",
       "    </tr>\n",
       "    <tr>\n",
       "      <th>234</th>\n",
       "      <td>volkswagen</td>\n",
       "      <td>passat</td>\n",
       "      <td>3.6</td>\n",
       "      <td>2008</td>\n",
       "      <td>6</td>\n",
       "      <td>auto(s6)</td>\n",
       "      <td>f</td>\n",
       "      <td>17</td>\n",
       "      <td>26</td>\n",
       "      <td>p</td>\n",
       "      <td>midsize</td>\n",
       "    </tr>\n",
       "  </tbody>\n",
       "</table>\n",
       "<p>234 rows × 11 columns</p>\n",
       "</div>"
      ],
      "text/plain": [
       "    manufacturer   model  displ  year  cyl       trans drv  cty  hwy fl  \\\n",
       "1           audi      a4    1.8  1999    4    auto(l5)   f   18   29  p   \n",
       "2           audi      a4    1.8  1999    4  manual(m5)   f   21   29  p   \n",
       "3           audi      a4    2.0  2008    4  manual(m6)   f   20   31  p   \n",
       "4           audi      a4    2.0  2008    4    auto(av)   f   21   30  p   \n",
       "5           audi      a4    2.8  1999    6    auto(l5)   f   16   26  p   \n",
       "..           ...     ...    ...   ...  ...         ...  ..  ...  ... ..   \n",
       "230   volkswagen  passat    2.0  2008    4    auto(s6)   f   19   28  p   \n",
       "231   volkswagen  passat    2.0  2008    4  manual(m6)   f   21   29  p   \n",
       "232   volkswagen  passat    2.8  1999    6    auto(l5)   f   16   26  p   \n",
       "233   volkswagen  passat    2.8  1999    6  manual(m5)   f   18   26  p   \n",
       "234   volkswagen  passat    3.6  2008    6    auto(s6)   f   17   26  p   \n",
       "\n",
       "       class  \n",
       "1    compact  \n",
       "2    compact  \n",
       "3    compact  \n",
       "4    compact  \n",
       "5    compact  \n",
       "..       ...  \n",
       "230  midsize  \n",
       "231  midsize  \n",
       "232  midsize  \n",
       "233  midsize  \n",
       "234  midsize  \n",
       "\n",
       "[234 rows x 11 columns]"
      ]
     },
     "execution_count": 60,
     "metadata": {},
     "output_type": "execute_result"
    }
   ],
   "source": [
    "mpg = data('mpg')\n",
    "mpg"
   ]
  },
  {
   "cell_type": "code",
   "execution_count": null,
   "id": "fd68e0c0",
   "metadata": {},
   "outputs": [],
   "source": [
    "# Exercise 3.1: Is there a difference in fuel-efficiency in cars from 2008 vs 1999?\n",
    "\n",
    "H^O: There is no difference in fuel efficiency between cars from 1999 and 2008\n",
    "H^A: There is a difference in fuel efficiency between cars from 1999 and 2008"
   ]
  },
  {
   "cell_type": "code",
   "execution_count": null,
   "id": "93c6a865",
   "metadata": {},
   "outputs": [],
   "source": [
    "\n",
    "# This is two-tailed bc I'm only looking to see if there's a difference, not whether one is < or > the\n",
    "# other.\n",
    "# Two sampled: comparing 2008 data with 1999 data across manufacturers\n"
   ]
  },
  {
   "cell_type": "code",
   "execution_count": 61,
   "id": "d805b221",
   "metadata": {},
   "outputs": [],
   "source": [
    "mpg['cmr'] = stats.hmean((mpg['hwy'], mpg['cty']))"
   ]
  },
  {
   "cell_type": "code",
   "execution_count": 62,
   "id": "7a4f9e8b",
   "metadata": {},
   "outputs": [
    {
     "data": {
      "text/html": [
       "<div>\n",
       "<style scoped>\n",
       "    .dataframe tbody tr th:only-of-type {\n",
       "        vertical-align: middle;\n",
       "    }\n",
       "\n",
       "    .dataframe tbody tr th {\n",
       "        vertical-align: top;\n",
       "    }\n",
       "\n",
       "    .dataframe thead th {\n",
       "        text-align: right;\n",
       "    }\n",
       "</style>\n",
       "<table border=\"1\" class=\"dataframe\">\n",
       "  <thead>\n",
       "    <tr style=\"text-align: right;\">\n",
       "      <th></th>\n",
       "      <th>manufacturer</th>\n",
       "      <th>model</th>\n",
       "      <th>displ</th>\n",
       "      <th>year</th>\n",
       "      <th>cyl</th>\n",
       "      <th>trans</th>\n",
       "      <th>drv</th>\n",
       "      <th>cty</th>\n",
       "      <th>hwy</th>\n",
       "      <th>fl</th>\n",
       "      <th>class</th>\n",
       "      <th>cmr</th>\n",
       "    </tr>\n",
       "  </thead>\n",
       "  <tbody>\n",
       "    <tr>\n",
       "      <th>1</th>\n",
       "      <td>audi</td>\n",
       "      <td>a4</td>\n",
       "      <td>1.8</td>\n",
       "      <td>1999</td>\n",
       "      <td>4</td>\n",
       "      <td>auto(l5)</td>\n",
       "      <td>f</td>\n",
       "      <td>18</td>\n",
       "      <td>29</td>\n",
       "      <td>p</td>\n",
       "      <td>compact</td>\n",
       "      <td>22.212766</td>\n",
       "    </tr>\n",
       "    <tr>\n",
       "      <th>2</th>\n",
       "      <td>audi</td>\n",
       "      <td>a4</td>\n",
       "      <td>1.8</td>\n",
       "      <td>1999</td>\n",
       "      <td>4</td>\n",
       "      <td>manual(m5)</td>\n",
       "      <td>f</td>\n",
       "      <td>21</td>\n",
       "      <td>29</td>\n",
       "      <td>p</td>\n",
       "      <td>compact</td>\n",
       "      <td>24.360000</td>\n",
       "    </tr>\n",
       "    <tr>\n",
       "      <th>3</th>\n",
       "      <td>audi</td>\n",
       "      <td>a4</td>\n",
       "      <td>2.0</td>\n",
       "      <td>2008</td>\n",
       "      <td>4</td>\n",
       "      <td>manual(m6)</td>\n",
       "      <td>f</td>\n",
       "      <td>20</td>\n",
       "      <td>31</td>\n",
       "      <td>p</td>\n",
       "      <td>compact</td>\n",
       "      <td>24.313725</td>\n",
       "    </tr>\n",
       "    <tr>\n",
       "      <th>4</th>\n",
       "      <td>audi</td>\n",
       "      <td>a4</td>\n",
       "      <td>2.0</td>\n",
       "      <td>2008</td>\n",
       "      <td>4</td>\n",
       "      <td>auto(av)</td>\n",
       "      <td>f</td>\n",
       "      <td>21</td>\n",
       "      <td>30</td>\n",
       "      <td>p</td>\n",
       "      <td>compact</td>\n",
       "      <td>24.705882</td>\n",
       "    </tr>\n",
       "    <tr>\n",
       "      <th>5</th>\n",
       "      <td>audi</td>\n",
       "      <td>a4</td>\n",
       "      <td>2.8</td>\n",
       "      <td>1999</td>\n",
       "      <td>6</td>\n",
       "      <td>auto(l5)</td>\n",
       "      <td>f</td>\n",
       "      <td>16</td>\n",
       "      <td>26</td>\n",
       "      <td>p</td>\n",
       "      <td>compact</td>\n",
       "      <td>19.809524</td>\n",
       "    </tr>\n",
       "    <tr>\n",
       "      <th>...</th>\n",
       "      <td>...</td>\n",
       "      <td>...</td>\n",
       "      <td>...</td>\n",
       "      <td>...</td>\n",
       "      <td>...</td>\n",
       "      <td>...</td>\n",
       "      <td>...</td>\n",
       "      <td>...</td>\n",
       "      <td>...</td>\n",
       "      <td>...</td>\n",
       "      <td>...</td>\n",
       "      <td>...</td>\n",
       "    </tr>\n",
       "    <tr>\n",
       "      <th>230</th>\n",
       "      <td>volkswagen</td>\n",
       "      <td>passat</td>\n",
       "      <td>2.0</td>\n",
       "      <td>2008</td>\n",
       "      <td>4</td>\n",
       "      <td>auto(s6)</td>\n",
       "      <td>f</td>\n",
       "      <td>19</td>\n",
       "      <td>28</td>\n",
       "      <td>p</td>\n",
       "      <td>midsize</td>\n",
       "      <td>22.638298</td>\n",
       "    </tr>\n",
       "    <tr>\n",
       "      <th>231</th>\n",
       "      <td>volkswagen</td>\n",
       "      <td>passat</td>\n",
       "      <td>2.0</td>\n",
       "      <td>2008</td>\n",
       "      <td>4</td>\n",
       "      <td>manual(m6)</td>\n",
       "      <td>f</td>\n",
       "      <td>21</td>\n",
       "      <td>29</td>\n",
       "      <td>p</td>\n",
       "      <td>midsize</td>\n",
       "      <td>24.360000</td>\n",
       "    </tr>\n",
       "    <tr>\n",
       "      <th>232</th>\n",
       "      <td>volkswagen</td>\n",
       "      <td>passat</td>\n",
       "      <td>2.8</td>\n",
       "      <td>1999</td>\n",
       "      <td>6</td>\n",
       "      <td>auto(l5)</td>\n",
       "      <td>f</td>\n",
       "      <td>16</td>\n",
       "      <td>26</td>\n",
       "      <td>p</td>\n",
       "      <td>midsize</td>\n",
       "      <td>19.809524</td>\n",
       "    </tr>\n",
       "    <tr>\n",
       "      <th>233</th>\n",
       "      <td>volkswagen</td>\n",
       "      <td>passat</td>\n",
       "      <td>2.8</td>\n",
       "      <td>1999</td>\n",
       "      <td>6</td>\n",
       "      <td>manual(m5)</td>\n",
       "      <td>f</td>\n",
       "      <td>18</td>\n",
       "      <td>26</td>\n",
       "      <td>p</td>\n",
       "      <td>midsize</td>\n",
       "      <td>21.272727</td>\n",
       "    </tr>\n",
       "    <tr>\n",
       "      <th>234</th>\n",
       "      <td>volkswagen</td>\n",
       "      <td>passat</td>\n",
       "      <td>3.6</td>\n",
       "      <td>2008</td>\n",
       "      <td>6</td>\n",
       "      <td>auto(s6)</td>\n",
       "      <td>f</td>\n",
       "      <td>17</td>\n",
       "      <td>26</td>\n",
       "      <td>p</td>\n",
       "      <td>midsize</td>\n",
       "      <td>20.558140</td>\n",
       "    </tr>\n",
       "  </tbody>\n",
       "</table>\n",
       "<p>234 rows × 12 columns</p>\n",
       "</div>"
      ],
      "text/plain": [
       "    manufacturer   model  displ  year  cyl       trans drv  cty  hwy fl  \\\n",
       "1           audi      a4    1.8  1999    4    auto(l5)   f   18   29  p   \n",
       "2           audi      a4    1.8  1999    4  manual(m5)   f   21   29  p   \n",
       "3           audi      a4    2.0  2008    4  manual(m6)   f   20   31  p   \n",
       "4           audi      a4    2.0  2008    4    auto(av)   f   21   30  p   \n",
       "5           audi      a4    2.8  1999    6    auto(l5)   f   16   26  p   \n",
       "..           ...     ...    ...   ...  ...         ...  ..  ...  ... ..   \n",
       "230   volkswagen  passat    2.0  2008    4    auto(s6)   f   19   28  p   \n",
       "231   volkswagen  passat    2.0  2008    4  manual(m6)   f   21   29  p   \n",
       "232   volkswagen  passat    2.8  1999    6    auto(l5)   f   16   26  p   \n",
       "233   volkswagen  passat    2.8  1999    6  manual(m5)   f   18   26  p   \n",
       "234   volkswagen  passat    3.6  2008    6    auto(s6)   f   17   26  p   \n",
       "\n",
       "       class        cmr  \n",
       "1    compact  22.212766  \n",
       "2    compact  24.360000  \n",
       "3    compact  24.313725  \n",
       "4    compact  24.705882  \n",
       "5    compact  19.809524  \n",
       "..       ...        ...  \n",
       "230  midsize  22.638298  \n",
       "231  midsize  24.360000  \n",
       "232  midsize  19.809524  \n",
       "233  midsize  21.272727  \n",
       "234  midsize  20.558140  \n",
       "\n",
       "[234 rows x 12 columns]"
      ]
     },
     "execution_count": 62,
     "metadata": {},
     "output_type": "execute_result"
    }
   ],
   "source": [
    "mpg"
   ]
  },
  {
   "cell_type": "code",
   "execution_count": 64,
   "id": "63fd0e13",
   "metadata": {},
   "outputs": [
    {
     "data": {
      "text/plain": [
       "1      22.212766\n",
       "2      24.360000\n",
       "5      19.809524\n",
       "6      21.272727\n",
       "8      21.272727\n",
       "9      19.512195\n",
       "12     18.750000\n",
       "13     20.238095\n",
       "16     18.461538\n",
       "22     14.733333\n",
       "24     19.809524\n",
       "25     18.157895\n",
       "31     12.692308\n",
       "32     15.354839\n",
       "33     22.304348\n",
       "35     21.272727\n",
       "38     20.571429\n",
       "39     19.902439\n",
       "40     18.526316\n",
       "41     18.526316\n",
       "45     17.837838\n",
       "46     17.500000\n",
       "51     14.733333\n",
       "52     15.354839\n",
       "56     13.357143\n",
       "57     12.692308\n",
       "58     14.733333\n",
       "62     13.037037\n",
       "64     12.692308\n",
       "71     12.692308\n",
       "72     13.037037\n",
       "74     12.692308\n",
       "75     13.357143\n",
       "76     13.357143\n",
       "78     15.354839\n",
       "79     16.764706\n",
       "80     15.354839\n",
       "83     14.733333\n",
       "84     15.354839\n",
       "85     15.354839\n",
       "86     14.344828\n",
       "87     14.344828\n",
       "89     12.692308\n",
       "91     21.272727\n",
       "92     20.930233\n",
       "95     17.500000\n",
       "96     17.837838\n",
       "100    30.295082\n",
       "101    27.428571\n",
       "102    28.070175\n",
       "103    25.653846\n",
       "104    27.428571\n",
       "109    21.272727\n",
       "110    21.600000\n",
       "113    21.272727\n",
       "114    21.272727\n",
       "116    21.955556\n",
       "117    22.958333\n",
       "125    17.142857\n",
       "126    15.354839\n",
       "131    12.692308\n",
       "134    12.692308\n",
       "135    13.357143\n",
       "136    13.037037\n",
       "138    15.354839\n",
       "141    14.733333\n",
       "142    24.360000\n",
       "143    22.304348\n",
       "148    21.272727\n",
       "149    21.590909\n",
       "151    15.354839\n",
       "152    15.937500\n",
       "155    21.272727\n",
       "156    19.809524\n",
       "157    20.863636\n",
       "160    20.930233\n",
       "161    20.571429\n",
       "166    23.234043\n",
       "167    21.955556\n",
       "168    21.955556\n",
       "169    21.955556\n",
       "174    17.142857\n",
       "175    17.777778\n",
       "176    16.764706\n",
       "177    15.937500\n",
       "180    24.360000\n",
       "181    23.625000\n",
       "184    21.272727\n",
       "185    21.272727\n",
       "187    23.625000\n",
       "188    24.360000\n",
       "191    21.272727\n",
       "192    21.272727\n",
       "194    26.666667\n",
       "195    27.789474\n",
       "196    29.836066\n",
       "199    12.692308\n",
       "201    17.142857\n",
       "202    17.777778\n",
       "204    15.937500\n",
       "205    16.764706\n",
       "208    24.360000\n",
       "209    21.955556\n",
       "212    19.902439\n",
       "213    37.714286\n",
       "214    24.360000\n",
       "215    21.955556\n",
       "220    18.871795\n",
       "221    19.902439\n",
       "222    38.987342\n",
       "223    33.971429\n",
       "224    24.360000\n",
       "225    21.955556\n",
       "228    24.360000\n",
       "229    22.212766\n",
       "232    19.809524\n",
       "233    21.272727\n",
       "Name: cmr, dtype: float64"
      ]
     },
     "execution_count": 64,
     "metadata": {},
     "output_type": "execute_result"
    }
   ],
   "source": [
    "takinover_forthe99 = mpg[mpg['year'] == 1999].cmr\n",
    "takinover_forthe99"
   ]
  },
  {
   "cell_type": "code",
   "execution_count": 65,
   "id": "bc7a35e6",
   "metadata": {},
   "outputs": [
    {
     "data": {
      "text/plain": [
       "3      24.313725\n",
       "4      24.705882\n",
       "7      21.600000\n",
       "10     23.333333\n",
       "11     22.304348\n",
       "14     20.238095\n",
       "15     18.750000\n",
       "17     20.238095\n",
       "18     18.871795\n",
       "19     16.470588\n",
       "20     12.692308\n",
       "21     16.470588\n",
       "23     14.068966\n",
       "26     19.809524\n",
       "27     18.750000\n",
       "28     18.461538\n",
       "29     16.121212\n",
       "30     12.320000\n",
       "34     25.384615\n",
       "36     22.212766\n",
       "37     20.558140\n",
       "42     19.902439\n",
       "43     19.902439\n",
       "44     13.357143\n",
       "47     18.871795\n",
       "48     18.871795\n",
       "49     16.764706\n",
       "50     15.750000\n",
       "53     16.121212\n",
       "54     16.121212\n",
       "55     10.285714\n",
       "59     14.733333\n",
       "60     10.285714\n",
       "61     14.733333\n",
       "63     15.096774\n",
       "65     13.714286\n",
       "66     10.285714\n",
       "67     14.733333\n",
       "68     14.733333\n",
       "69     13.714286\n",
       "70     10.285714\n",
       "73     14.733333\n",
       "77     14.400000\n",
       "81     15.437500\n",
       "82     15.437500\n",
       "88     14.733333\n",
       "90     14.733333\n",
       "93     20.558140\n",
       "94     19.200000\n",
       "97     18.157895\n",
       "98     17.837838\n",
       "99     16.470588\n",
       "105    29.466667\n",
       "106    29.508197\n",
       "107    28.800000\n",
       "108    24.360000\n",
       "111    24.705882\n",
       "112    25.038462\n",
       "115    22.638298\n",
       "118    23.333333\n",
       "119    22.978723\n",
       "120    19.902439\n",
       "121    19.200000\n",
       "122    19.902439\n",
       "123    19.179487\n",
       "124    16.764706\n",
       "127    10.285714\n",
       "128    16.121212\n",
       "129    15.096774\n",
       "130    12.320000\n",
       "132    14.400000\n",
       "133    14.400000\n",
       "137    14.400000\n",
       "139    15.437500\n",
       "140    15.437500\n",
       "144    26.407407\n",
       "145    26.763636\n",
       "146    22.304348\n",
       "147    21.955556\n",
       "150    21.590909\n",
       "153    16.470588\n",
       "154    14.400000\n",
       "158    21.913043\n",
       "159    19.512195\n",
       "162    22.978723\n",
       "163    21.590909\n",
       "164    22.608696\n",
       "165    20.195122\n",
       "170    22.222222\n",
       "171    22.978723\n",
       "172    21.590909\n",
       "173    22.978723\n",
       "178    17.777778\n",
       "179    15.354839\n",
       "182    25.038462\n",
       "183    25.038462\n",
       "186    22.638298\n",
       "189    25.038462\n",
       "190    25.735849\n",
       "193    21.600000\n",
       "197    31.876923\n",
       "198    29.836066\n",
       "200    15.096774\n",
       "203    19.179487\n",
       "206    16.363636\n",
       "207    17.777778\n",
       "210    24.360000\n",
       "211    25.019608\n",
       "216    25.019608\n",
       "217    24.360000\n",
       "218    24.360000\n",
       "219    24.360000\n",
       "226    23.333333\n",
       "227    23.673469\n",
       "230    22.638298\n",
       "231    24.360000\n",
       "234    20.558140\n",
       "Name: cmr, dtype: float64"
      ]
     },
     "execution_count": 65,
     "metadata": {},
     "output_type": "execute_result"
    }
   ],
   "source": [
    "andthe2000s= mpg[mpg['year'] == 2008].cmr\n",
    "andthe2000s"
   ]
  },
  {
   "cell_type": "code",
   "execution_count": 66,
   "id": "9486a835",
   "metadata": {},
   "outputs": [
    {
     "data": {
      "text/plain": [
       "(array([23., 24., 17., 31., 12.,  5.,  2.,  0.,  1.,  2.]),\n",
       " array([12.69230769, 15.3218111 , 17.95131451, 20.58081792, 23.21032132,\n",
       "        25.83982473, 28.46932814, 31.09883155, 33.72833496, 36.35783836,\n",
       "        38.98734177]),\n",
       " <BarContainer object of 10 artists>)"
      ]
     },
     "execution_count": 66,
     "metadata": {},
     "output_type": "execute_result"
    },
    {
     "data": {
      "image/png": "[encoded data removed]",
      "text/plain": [
       "<Figure size 640x480 with 1 Axes>"
      ]
     },
     "metadata": {},
     "output_type": "display_data"
    }
   ],
   "source": [
    "plt.hist(takinover_forthe99)"
   ]
  },
  {
   "cell_type": "code",
   "execution_count": 84,
   "id": "d7de890d",
   "metadata": {},
   "outputs": [
    {
     "data": {
      "text/plain": [
       "Text(0.5, 1.0, 'Comparing Fuel Efficiency in Cars from 1999 and 2008')"
      ]
     },
     "execution_count": 84,
     "metadata": {},
     "output_type": "execute_result"
    },
    {
     "data": {
      "image/png": "[encoded data removed]",
      "text/plain": [
       "<Figure size 640x480 with 1 Axes>"
      ]
     },
     "metadata": {},
     "output_type": "display_data"
    }
   ],
   "source": [
    "plt.hist([takinover_forthe99, andthe2000s], label=[\"Cars from '99\", \"Cars from 2008\"])\n",
    "plt.legend(loc=\"right\")\n",
    "plt.title(\"Comparing Fuel Efficiency in Cars from 1999 and 2008\")"
   ]
  },
  {
   "cell_type": "code",
   "execution_count": 75,
   "id": "6f25d558",
   "metadata": {},
   "outputs": [
    {
     "data": {
      "text/plain": [
       "(117, 25.850396545865912)"
      ]
     },
     "execution_count": 75,
     "metadata": {},
     "output_type": "execute_result"
    }
   ],
   "source": [
    "takinover_forthe99.count(), takinover_forthe99.var()"
   ]
  },
  {
   "cell_type": "code",
   "execution_count": 76,
   "id": "e50d1592",
   "metadata": {},
   "outputs": [
    {
     "data": {
      "text/plain": [
       "(117, 22.550836772260343)"
      ]
     },
     "execution_count": 76,
     "metadata": {},
     "output_type": "execute_result"
    }
   ],
   "source": [
    "andthe2000s.count(), andthe2000s.var()"
   ]
  },
  {
   "cell_type": "code",
   "execution_count": 77,
   "id": "9e5a0eeb",
   "metadata": {},
   "outputs": [
    {
     "data": {
      "text/plain": [
       "LeveneResult(statistic=0.031071867429515194, pvalue=0.8602339200830025)"
      ]
     },
     "execution_count": 77,
     "metadata": {},
     "output_type": "execute_result"
    }
   ],
   "source": [
    "stats.levene(takinover_forthe99, andthe2000s)\n",
    "\n",
    "# Exercise 3.1 Solution:\n",
    "\n",
    "# High p-value in this case (p> 0.05), so I fail to reject my null hypothesis "
   ]
  },
  {
   "cell_type": "code",
   "execution_count": null,
   "id": "c7500abe",
   "metadata": {},
   "outputs": [],
   "source": []
  },
  {
   "cell_type": "code",
   "execution_count": null,
   "id": "a342b6e3",
   "metadata": {},
   "outputs": [],
   "source": [
    "# Exercise 3.2: Are compact cars more fuel-efficient than the average car?\n",
    "\n",
    "H^O: Compact cars have less than average fuel efficiency compared to non-compact cars\n",
    "H^a: Compact cars have greater than average fuel efficiency compared to non-compact cars"
   ]
  },
  {
   "cell_type": "code",
   "execution_count": null,
   "id": "d72e43cb",
   "metadata": {},
   "outputs": [],
   "source": [
    "# One tailed test/one sample bc it's compact cars vs everybody else\n",
    "# ***DON'T FORGET TO DIVIDE BY 2 FOR ONE-TAILED TESTS***"
   ]
  },
  {
   "cell_type": "code",
   "execution_count": 85,
   "id": "61039791",
   "metadata": {},
   "outputs": [
    {
     "data": {
      "text/plain": [
       "1      22.212766\n",
       "2      24.360000\n",
       "3      24.313725\n",
       "4      24.705882\n",
       "5      19.809524\n",
       "6      21.272727\n",
       "7      21.600000\n",
       "8      21.272727\n",
       "9      19.512195\n",
       "10     23.333333\n",
       "11     22.304348\n",
       "12     18.750000\n",
       "13     20.238095\n",
       "14     20.238095\n",
       "15     18.750000\n",
       "142    24.360000\n",
       "143    22.304348\n",
       "170    22.222222\n",
       "171    22.978723\n",
       "172    21.590909\n",
       "173    22.978723\n",
       "187    23.625000\n",
       "188    24.360000\n",
       "189    25.038462\n",
       "190    25.735849\n",
       "191    21.272727\n",
       "192    21.272727\n",
       "193    21.600000\n",
       "194    26.666667\n",
       "195    27.789474\n",
       "196    29.836066\n",
       "197    31.876923\n",
       "198    29.836066\n",
       "208    24.360000\n",
       "209    21.955556\n",
       "210    24.360000\n",
       "211    25.019608\n",
       "212    19.902439\n",
       "213    37.714286\n",
       "214    24.360000\n",
       "215    21.955556\n",
       "216    25.019608\n",
       "217    24.360000\n",
       "218    24.360000\n",
       "219    24.360000\n",
       "220    18.871795\n",
       "221    19.902439\n",
       "Name: cmr, dtype: float64"
      ]
     },
     "execution_count": 85,
     "metadata": {},
     "output_type": "execute_result"
    }
   ],
   "source": [
    "funsized = mpg[mpg['class'] == 'compact'].cmr\n",
    "funsized"
   ]
  },
  {
   "cell_type": "code",
   "execution_count": 88,
   "id": "4517433c",
   "metadata": {},
   "outputs": [
    {
     "data": {
      "text/plain": [
       "(7.512360093161354, 1.5617666348807727e-09)"
      ]
     },
     "execution_count": 88,
     "metadata": {},
     "output_type": "execute_result"
    }
   ],
   "source": [
    "ts, pv = stats.ttest_1samp(funsized, mpg['cmr'].mean())\n",
    "ts, pv"
   ]
  },
  {
   "cell_type": "code",
   "execution_count": 90,
   "id": "d3e6548f",
   "metadata": {},
   "outputs": [
    {
     "data": {
      "text/plain": [
       "(7.512360093161354, 7.808833174403864e-10)"
      ]
     },
     "execution_count": 90,
     "metadata": {},
     "output_type": "execute_result"
    }
   ],
   "source": [
    "ts, pv/2\n",
    "\n",
    "# Exercise 3.2 Solution:\n",
    "\n",
    "# Since the p-value < alpha, (.00000000078089 vs 0.05) AND t > 0, I can (finally) reject the null hypothesis"
   ]
  },
  {
   "cell_type": "code",
   "execution_count": null,
   "id": "251978a9",
   "metadata": {},
   "outputs": [],
   "source": [
    "# Exercise 3.3: Do manual cars get better gas mileage than automatic cars?\n",
    "\n",
    "H^O: Manual cars do not get better gas mileage than automatic cars\n",
    "H^a: Manual cars do get better gas mileage than automatic cars"
   ]
  },
  {
   "cell_type": "code",
   "execution_count": null,
   "id": "27f2d7d5",
   "metadata": {},
   "outputs": [],
   "source": [
    "# One tailed, two sampled: specifically looking for info on manual cars, but using two distinct samples\n",
    "# (automatic vs manual cars) to find that info\n",
    "# ***DON'T FORGET TO DIVIDE BY 2 FOR ONE-TAILED TESTS***"
   ]
  },
  {
   "cell_type": "code",
   "execution_count": 94,
   "id": "507fcc6d",
   "metadata": {},
   "outputs": [
    {
     "data": {
      "text/html": [
       "<div>\n",
       "<style scoped>\n",
       "    .dataframe tbody tr th:only-of-type {\n",
       "        vertical-align: middle;\n",
       "    }\n",
       "\n",
       "    .dataframe tbody tr th {\n",
       "        vertical-align: top;\n",
       "    }\n",
       "\n",
       "    .dataframe thead th {\n",
       "        text-align: right;\n",
       "    }\n",
       "</style>\n",
       "<table border=\"1\" class=\"dataframe\">\n",
       "  <thead>\n",
       "    <tr style=\"text-align: right;\">\n",
       "      <th></th>\n",
       "      <th>manufacturer</th>\n",
       "      <th>model</th>\n",
       "      <th>displ</th>\n",
       "      <th>year</th>\n",
       "      <th>cyl</th>\n",
       "      <th>trans</th>\n",
       "      <th>drv</th>\n",
       "      <th>cty</th>\n",
       "      <th>hwy</th>\n",
       "      <th>fl</th>\n",
       "      <th>class</th>\n",
       "      <th>cmr</th>\n",
       "    </tr>\n",
       "  </thead>\n",
       "  <tbody>\n",
       "    <tr>\n",
       "      <th>1</th>\n",
       "      <td>audi</td>\n",
       "      <td>a4</td>\n",
       "      <td>1.8</td>\n",
       "      <td>1999</td>\n",
       "      <td>4</td>\n",
       "      <td>auto(l5)</td>\n",
       "      <td>f</td>\n",
       "      <td>18</td>\n",
       "      <td>29</td>\n",
       "      <td>p</td>\n",
       "      <td>compact</td>\n",
       "      <td>22.212766</td>\n",
       "    </tr>\n",
       "    <tr>\n",
       "      <th>2</th>\n",
       "      <td>audi</td>\n",
       "      <td>a4</td>\n",
       "      <td>1.8</td>\n",
       "      <td>1999</td>\n",
       "      <td>4</td>\n",
       "      <td>manual(m5)</td>\n",
       "      <td>f</td>\n",
       "      <td>21</td>\n",
       "      <td>29</td>\n",
       "      <td>p</td>\n",
       "      <td>compact</td>\n",
       "      <td>24.360000</td>\n",
       "    </tr>\n",
       "    <tr>\n",
       "      <th>3</th>\n",
       "      <td>audi</td>\n",
       "      <td>a4</td>\n",
       "      <td>2.0</td>\n",
       "      <td>2008</td>\n",
       "      <td>4</td>\n",
       "      <td>manual(m6)</td>\n",
       "      <td>f</td>\n",
       "      <td>20</td>\n",
       "      <td>31</td>\n",
       "      <td>p</td>\n",
       "      <td>compact</td>\n",
       "      <td>24.313725</td>\n",
       "    </tr>\n",
       "    <tr>\n",
       "      <th>4</th>\n",
       "      <td>audi</td>\n",
       "      <td>a4</td>\n",
       "      <td>2.0</td>\n",
       "      <td>2008</td>\n",
       "      <td>4</td>\n",
       "      <td>auto(av)</td>\n",
       "      <td>f</td>\n",
       "      <td>21</td>\n",
       "      <td>30</td>\n",
       "      <td>p</td>\n",
       "      <td>compact</td>\n",
       "      <td>24.705882</td>\n",
       "    </tr>\n",
       "    <tr>\n",
       "      <th>5</th>\n",
       "      <td>audi</td>\n",
       "      <td>a4</td>\n",
       "      <td>2.8</td>\n",
       "      <td>1999</td>\n",
       "      <td>6</td>\n",
       "      <td>auto(l5)</td>\n",
       "      <td>f</td>\n",
       "      <td>16</td>\n",
       "      <td>26</td>\n",
       "      <td>p</td>\n",
       "      <td>compact</td>\n",
       "      <td>19.809524</td>\n",
       "    </tr>\n",
       "    <tr>\n",
       "      <th>...</th>\n",
       "      <td>...</td>\n",
       "      <td>...</td>\n",
       "      <td>...</td>\n",
       "      <td>...</td>\n",
       "      <td>...</td>\n",
       "      <td>...</td>\n",
       "      <td>...</td>\n",
       "      <td>...</td>\n",
       "      <td>...</td>\n",
       "      <td>...</td>\n",
       "      <td>...</td>\n",
       "      <td>...</td>\n",
       "    </tr>\n",
       "    <tr>\n",
       "      <th>230</th>\n",
       "      <td>volkswagen</td>\n",
       "      <td>passat</td>\n",
       "      <td>2.0</td>\n",
       "      <td>2008</td>\n",
       "      <td>4</td>\n",
       "      <td>auto(s6)</td>\n",
       "      <td>f</td>\n",
       "      <td>19</td>\n",
       "      <td>28</td>\n",
       "      <td>p</td>\n",
       "      <td>midsize</td>\n",
       "      <td>22.638298</td>\n",
       "    </tr>\n",
       "    <tr>\n",
       "      <th>231</th>\n",
       "      <td>volkswagen</td>\n",
       "      <td>passat</td>\n",
       "      <td>2.0</td>\n",
       "      <td>2008</td>\n",
       "      <td>4</td>\n",
       "      <td>manual(m6)</td>\n",
       "      <td>f</td>\n",
       "      <td>21</td>\n",
       "      <td>29</td>\n",
       "      <td>p</td>\n",
       "      <td>midsize</td>\n",
       "      <td>24.360000</td>\n",
       "    </tr>\n",
       "    <tr>\n",
       "      <th>232</th>\n",
       "      <td>volkswagen</td>\n",
       "      <td>passat</td>\n",
       "      <td>2.8</td>\n",
       "      <td>1999</td>\n",
       "      <td>6</td>\n",
       "      <td>auto(l5)</td>\n",
       "      <td>f</td>\n",
       "      <td>16</td>\n",
       "      <td>26</td>\n",
       "      <td>p</td>\n",
       "      <td>midsize</td>\n",
       "      <td>19.809524</td>\n",
       "    </tr>\n",
       "    <tr>\n",
       "      <th>233</th>\n",
       "      <td>volkswagen</td>\n",
       "      <td>passat</td>\n",
       "      <td>2.8</td>\n",
       "      <td>1999</td>\n",
       "      <td>6</td>\n",
       "      <td>manual(m5)</td>\n",
       "      <td>f</td>\n",
       "      <td>18</td>\n",
       "      <td>26</td>\n",
       "      <td>p</td>\n",
       "      <td>midsize</td>\n",
       "      <td>21.272727</td>\n",
       "    </tr>\n",
       "    <tr>\n",
       "      <th>234</th>\n",
       "      <td>volkswagen</td>\n",
       "      <td>passat</td>\n",
       "      <td>3.6</td>\n",
       "      <td>2008</td>\n",
       "      <td>6</td>\n",
       "      <td>auto(s6)</td>\n",
       "      <td>f</td>\n",
       "      <td>17</td>\n",
       "      <td>26</td>\n",
       "      <td>p</td>\n",
       "      <td>midsize</td>\n",
       "      <td>20.558140</td>\n",
       "    </tr>\n",
       "  </tbody>\n",
       "</table>\n",
       "<p>234 rows × 12 columns</p>\n",
       "</div>"
      ],
      "text/plain": [
       "    manufacturer   model  displ  year  cyl       trans drv  cty  hwy fl  \\\n",
       "1           audi      a4    1.8  1999    4    auto(l5)   f   18   29  p   \n",
       "2           audi      a4    1.8  1999    4  manual(m5)   f   21   29  p   \n",
       "3           audi      a4    2.0  2008    4  manual(m6)   f   20   31  p   \n",
       "4           audi      a4    2.0  2008    4    auto(av)   f   21   30  p   \n",
       "5           audi      a4    2.8  1999    6    auto(l5)   f   16   26  p   \n",
       "..           ...     ...    ...   ...  ...         ...  ..  ...  ... ..   \n",
       "230   volkswagen  passat    2.0  2008    4    auto(s6)   f   19   28  p   \n",
       "231   volkswagen  passat    2.0  2008    4  manual(m6)   f   21   29  p   \n",
       "232   volkswagen  passat    2.8  1999    6    auto(l5)   f   16   26  p   \n",
       "233   volkswagen  passat    2.8  1999    6  manual(m5)   f   18   26  p   \n",
       "234   volkswagen  passat    3.6  2008    6    auto(s6)   f   17   26  p   \n",
       "\n",
       "       class        cmr  \n",
       "1    compact  22.212766  \n",
       "2    compact  24.360000  \n",
       "3    compact  24.313725  \n",
       "4    compact  24.705882  \n",
       "5    compact  19.809524  \n",
       "..       ...        ...  \n",
       "230  midsize  22.638298  \n",
       "231  midsize  24.360000  \n",
       "232  midsize  19.809524  \n",
       "233  midsize  21.272727  \n",
       "234  midsize  20.558140  \n",
       "\n",
       "[234 rows x 12 columns]"
      ]
     },
     "execution_count": 94,
     "metadata": {},
     "output_type": "execute_result"
    }
   ],
   "source": [
    "mpg"
   ]
  },
  {
   "cell_type": "code",
   "execution_count": 95,
   "id": "2fa92bb8",
   "metadata": {},
   "outputs": [
    {
     "data": {
      "text/plain": [
       "77"
      ]
     },
     "execution_count": 95,
     "metadata": {},
     "output_type": "execute_result"
    }
   ],
   "source": [
    "thefast= mpg[mpg['trans'].str.contains('manual')].cmr\n",
    "thefast.count()"
   ]
  },
  {
   "cell_type": "code",
   "execution_count": 96,
   "id": "de7f0fb4",
   "metadata": {},
   "outputs": [
    {
     "data": {
      "text/plain": [
       "157"
      ]
     },
     "execution_count": 96,
     "metadata": {},
     "output_type": "execute_result"
    }
   ],
   "source": [
    "thefurious = mpg[mpg['trans'].str.contains('auto')].cmr\n",
    "thefurious.count()"
   ]
  },
  {
   "cell_type": "code",
   "execution_count": 99,
   "id": "7828d02f",
   "metadata": {},
   "outputs": [
    {
     "data": {
      "text/plain": [
       "(4.652577547151351, 2.7552323050220026e-06)"
      ]
     },
     "execution_count": 99,
     "metadata": {},
     "output_type": "execute_result"
    }
   ],
   "source": [
    "ts, pv = stats.ttest_ind(thefast, thefurious)\n",
    "ts, pv/2"
   ]
  },
  {
   "cell_type": "code",
   "execution_count": null,
   "id": "43135ea6",
   "metadata": {},
   "outputs": [],
   "source": [
    "# Exercise 3.3 Solution:\n",
    "\n",
    "# Since ts > 0 and pv < alpha, I can reject my null hypothesis and say that there is a difference in fuel\n",
    "# efficiency between manual and automatic cars"
   ]
  }
 ],
 "metadata": {
  "kernelspec": {
   "display_name": "Python 3 (ipykernel)",
   "language": "python",
   "name": "python3"
  },
  "language_info": {
   "codemirror_mode": {
    "name": "ipython",
    "version": 3
   },
   "file_extension": ".py",
   "mimetype": "text/x-python",
   "name": "python",
   "nbconvert_exporter": "python",
   "pygments_lexer": "ipython3",
   "version": "3.9.13"
  }
 },
 "nbformat": 4,
 "nbformat_minor": 5
}
