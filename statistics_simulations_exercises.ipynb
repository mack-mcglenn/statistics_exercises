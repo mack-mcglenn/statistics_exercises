{
 "cells": [
  {
   "cell_type": "code",
   "execution_count": 11,
   "id": "2288066c",
   "metadata": {},
   "outputs": [],
   "source": [
    "import pandas as pd\n",
    "import numpy as np\n",
    "%matplotlib inline\n",
    "import seaborn as sns\n",
    "np.random.seed(29)"
   ]
  },
  {
   "cell_type": "code",
   "execution_count": 12,
   "id": "1a81e967",
   "metadata": {},
   "outputs": [
    {
     "data": {
      "text/plain": [
       "array([[6, 4],\n",
       "       [5, 6],\n",
       "       [3, 1],\n",
       "       ...,\n",
       "       [2, 5],\n",
       "       [1, 4],\n",
       "       [4, 6]])"
      ]
     },
     "execution_count": 12,
     "metadata": {},
     "output_type": "execute_result"
    }
   ],
   "source": [
    "# Exercise 1. How likely is it that you roll doubles when rolling two dice?\n",
    "\n",
    "dubs = np.random.choice(range(1,7), size = (10000,2))\n",
    "dubs"
   ]
  },
  {
   "cell_type": "code",
   "execution_count": 13,
   "id": "f4363539",
   "metadata": {},
   "outputs": [
    {
     "data": {
      "text/html": [
       "<div>\n",
       "<style scoped>\n",
       "    .dataframe tbody tr th:only-of-type {\n",
       "        vertical-align: middle;\n",
       "    }\n",
       "\n",
       "    .dataframe tbody tr th {\n",
       "        vertical-align: top;\n",
       "    }\n",
       "\n",
       "    .dataframe thead th {\n",
       "        text-align: right;\n",
       "    }\n",
       "</style>\n",
       "<table border=\"1\" class=\"dataframe\">\n",
       "  <thead>\n",
       "    <tr style=\"text-align: right;\">\n",
       "      <th></th>\n",
       "      <th>0</th>\n",
       "      <th>1</th>\n",
       "    </tr>\n",
       "  </thead>\n",
       "  <tbody>\n",
       "    <tr>\n",
       "      <th>0</th>\n",
       "      <td>6</td>\n",
       "      <td>4</td>\n",
       "    </tr>\n",
       "    <tr>\n",
       "      <th>1</th>\n",
       "      <td>5</td>\n",
       "      <td>6</td>\n",
       "    </tr>\n",
       "    <tr>\n",
       "      <th>2</th>\n",
       "      <td>3</td>\n",
       "      <td>1</td>\n",
       "    </tr>\n",
       "    <tr>\n",
       "      <th>3</th>\n",
       "      <td>1</td>\n",
       "      <td>2</td>\n",
       "    </tr>\n",
       "    <tr>\n",
       "      <th>4</th>\n",
       "      <td>2</td>\n",
       "      <td>1</td>\n",
       "    </tr>\n",
       "    <tr>\n",
       "      <th>...</th>\n",
       "      <td>...</td>\n",
       "      <td>...</td>\n",
       "    </tr>\n",
       "    <tr>\n",
       "      <th>9995</th>\n",
       "      <td>5</td>\n",
       "      <td>2</td>\n",
       "    </tr>\n",
       "    <tr>\n",
       "      <th>9996</th>\n",
       "      <td>3</td>\n",
       "      <td>6</td>\n",
       "    </tr>\n",
       "    <tr>\n",
       "      <th>9997</th>\n",
       "      <td>2</td>\n",
       "      <td>5</td>\n",
       "    </tr>\n",
       "    <tr>\n",
       "      <th>9998</th>\n",
       "      <td>1</td>\n",
       "      <td>4</td>\n",
       "    </tr>\n",
       "    <tr>\n",
       "      <th>9999</th>\n",
       "      <td>4</td>\n",
       "      <td>6</td>\n",
       "    </tr>\n",
       "  </tbody>\n",
       "</table>\n",
       "<p>10000 rows × 2 columns</p>\n",
       "</div>"
      ],
      "text/plain": [
       "      0  1\n",
       "0     6  4\n",
       "1     5  6\n",
       "2     3  1\n",
       "3     1  2\n",
       "4     2  1\n",
       "...  .. ..\n",
       "9995  5  2\n",
       "9996  3  6\n",
       "9997  2  5\n",
       "9998  1  4\n",
       "9999  4  6\n",
       "\n",
       "[10000 rows x 2 columns]"
      ]
     },
     "execution_count": 13,
     "metadata": {},
     "output_type": "execute_result"
    }
   ],
   "source": [
    "dubsdf = pd.DataFrame(dubs)\n",
    "dubsdf"
   ]
  },
  {
   "cell_type": "code",
   "execution_count": 14,
   "id": "fe6c2452",
   "metadata": {},
   "outputs": [
    {
     "data": {
      "text/plain": [
       "0       False\n",
       "1       False\n",
       "2       False\n",
       "3       False\n",
       "4       False\n",
       "        ...  \n",
       "9995    False\n",
       "9996    False\n",
       "9997    False\n",
       "9998    False\n",
       "9999    False\n",
       "Length: 10000, dtype: bool"
      ]
     },
     "execution_count": 14,
     "metadata": {},
     "output_type": "execute_result"
    }
   ],
   "source": [
    "countdubs=(dubsdf[0] == dubsdf[1])\n",
    "countdubs"
   ]
  },
  {
   "cell_type": "code",
   "execution_count": 15,
   "id": "22a14730",
   "metadata": {},
   "outputs": [
    {
     "data": {
      "text/plain": [
       "0.1709"
      ]
     },
     "execution_count": 15,
     "metadata": {},
     "output_type": "execute_result"
    }
   ],
   "source": [
    "countdubs.mean()"
   ]
  },
  {
   "cell_type": "code",
   "execution_count": 17,
   "id": "727d83ed",
   "metadata": {},
   "outputs": [
    {
     "data": {
      "text/plain": [
       "array([[0, 0, 0, ..., 0, 1, 1],\n",
       "       [0, 0, 1, ..., 1, 1, 0],\n",
       "       [1, 0, 1, ..., 1, 1, 1],\n",
       "       ...,\n",
       "       [0, 1, 0, ..., 1, 1, 0],\n",
       "       [1, 0, 0, ..., 1, 1, 1],\n",
       "       [1, 0, 0, ..., 0, 1, 0]])"
      ]
     },
     "execution_count": 17,
     "metadata": {},
     "output_type": "execute_result"
    }
   ],
   "source": [
    "# Exercise 2. If you flip 8 coins, what is the probability of getting exactly 3 heads? \n",
    "# What is the probability of getting more than 3 heads?\n",
    "\n",
    "\n",
    "#This time, I just use size instead of .reshape(). This is my preferred method, but I'll do \n",
    "# it both ways for practice \n",
    "\n",
    "headsortails= np.random.choice([0,1], size=(10000,8))\n",
    "headsortails\n"
   ]
  },
  {
   "cell_type": "code",
   "execution_count": 226,
   "id": "8be65821",
   "metadata": {},
   "outputs": [
    {
     "data": {
      "text/plain": [
       "array([4, 4, 1, ..., 4, 5, 5])"
      ]
     },
     "execution_count": 226,
     "metadata": {},
     "output_type": "execute_result"
    }
   ],
   "source": [
    "headsortails.sum(axis=1)\n"
   ]
  },
  {
   "cell_type": "code",
   "execution_count": 18,
   "id": "8e0fa1f5",
   "metadata": {},
   "outputs": [
    {
     "data": {
      "text/plain": [
       "array([ True, False, False, ...,  True, False,  True])"
      ]
     },
     "execution_count": 18,
     "metadata": {},
     "output_type": "execute_result"
    }
   ],
   "source": [
    "headsortails.sum(axis=1) <= 3\n"
   ]
  },
  {
   "cell_type": "code",
   "execution_count": 19,
   "id": "517bc0ce",
   "metadata": {},
   "outputs": [
    {
     "data": {
      "text/plain": [
       "0.2243"
      ]
     },
     "execution_count": 19,
     "metadata": {},
     "output_type": "execute_result"
    }
   ],
   "source": [
    "(headsortails.sum(axis=1) == 3).mean()\n",
    "\n",
    "#Probability of getting 3 heads\n"
   ]
  },
  {
   "cell_type": "code",
   "execution_count": 20,
   "id": "986c0934",
   "metadata": {},
   "outputs": [
    {
     "data": {
      "text/plain": [
       "0.6313"
      ]
     },
     "execution_count": 20,
     "metadata": {},
     "output_type": "execute_result"
    }
   ],
   "source": [
    "(headsortails.sum(axis=1) > 3).mean()\n",
    "\n",
    "# Probability of getting more than 3 heads"
   ]
  },
  {
   "cell_type": "code",
   "execution_count": 236,
   "id": "3e8f34b7",
   "metadata": {},
   "outputs": [
    {
     "data": {
      "text/plain": [
       "0.1505"
      ]
     },
     "execution_count": 236,
     "metadata": {},
     "output_type": "execute_result"
    }
   ],
   "source": [
    "# I'm also finding the value of less than 3 heads so that I can check the accuracy of my \n",
    "# solution. Everything should add up to 1\n",
    "(headsortails.sum(axis=1) < 3).mean()\n"
   ]
  },
  {
   "cell_type": "code",
   "execution_count": 239,
   "id": "3dc32322",
   "metadata": {},
   "outputs": [
    {
     "data": {
      "text/plain": [
       "0.9999999999999999"
      ]
     },
     "execution_count": 239,
     "metadata": {},
     "output_type": "execute_result"
    }
   ],
   "source": [
    "#Good to go!\n",
    "\n",
    "(headsortails.sum(axis=1) < 3).mean()+ (headsortails.sum(axis=1) > 3).mean() + (headsortails.sum(axis=1) == 3).mean()"
   ]
  },
  {
   "cell_type": "code",
   "execution_count": 249,
   "id": "bb7ee0b1",
   "metadata": {},
   "outputs": [
    {
     "data": {
      "text/plain": [
       "array([[1, 1],\n",
       "       [0, 0],\n",
       "       [0, 0],\n",
       "       ...,\n",
       "       [0, 0],\n",
       "       [0, 1],\n",
       "       [0, 0]])"
      ]
     },
     "execution_count": 249,
     "metadata": {},
     "output_type": "execute_result"
    }
   ],
   "source": [
    "# Exercise 3. There are approximitely 3 web development cohorts for every 1 data science \n",
    "# cohort at Codeup.\n",
    "# Assuming that Codeup randomly selects an alumni to put on a billboard, what are the\n",
    "# odds that the two billboards I drive past both have data science students on them?\n",
    "\n",
    "# wd = 0\n",
    "# ds = 1\n",
    "# rows=1000\n",
    "# cols=2\n",
    "\n",
    "billboard= np.random.choice([0,1], size = (10000, 2), p = [.75, .25])\n",
    "billboard"
   ]
  },
  {
   "cell_type": "code",
   "execution_count": 250,
   "id": "54cce6c2",
   "metadata": {},
   "outputs": [
    {
     "data": {
      "text/plain": [
       "array([[ True,  True],\n",
       "       [False, False],\n",
       "       [False, False],\n",
       "       ...,\n",
       "       [False, False],\n",
       "       [False,  True],\n",
       "       [False, False]])"
      ]
     },
     "execution_count": 250,
     "metadata": {},
     "output_type": "execute_result"
    }
   ],
   "source": [
    "dsboard=(billboard == 1)\n",
    "dsboard"
   ]
  },
  {
   "cell_type": "code",
   "execution_count": 251,
   "id": "713aeb34",
   "metadata": {},
   "outputs": [
    {
     "data": {
      "text/plain": [
       "0.0621"
      ]
     },
     "execution_count": 251,
     "metadata": {},
     "output_type": "execute_result"
    }
   ],
   "source": [
    "(dsboard.sum(axis=1) ==2).mean()"
   ]
  },
  {
   "cell_type": "code",
   "execution_count": 252,
   "id": "a8a10229",
   "metadata": {},
   "outputs": [
    {
     "data": {
      "text/plain": [
       "0.0621"
      ]
     },
     "execution_count": 252,
     "metadata": {},
     "output_type": "execute_result"
    }
   ],
   "source": [
    "(billboard.sum(axis=1)==2).mean()"
   ]
  },
  {
   "cell_type": "code",
   "execution_count": 55,
   "id": "a9d0720a",
   "metadata": {},
   "outputs": [
    {
     "data": {
      "text/plain": [
       "array([[4.5385589 , 3.05444823, 4.20758969, 5.98210083, 2.57615686],\n",
       "       [1.59425   , 1.5034385 , 1.47062783, 3.69443948, 4.57286714],\n",
       "       [0.96432064, 3.39767175, 1.81958577, 2.1177621 , 1.88405883],\n",
       "       ...,\n",
       "       [2.18210518, 1.95682975, 1.99114806, 2.90565526, 3.86566791],\n",
       "       [2.19730677, 2.82223309, 3.83524847, 1.9562706 , 3.02713745],\n",
       "       [2.24635143, 3.56406863, 2.14699214, 2.8678356 , 3.97954274]])"
      ]
     },
     "execution_count": 55,
     "metadata": {},
     "output_type": "execute_result"
    }
   ],
   "source": [
    "# Codeup students buy, on average, 3 poptart packages with a standard deviation of 1.5 a day\n",
    "# from the snack vending machine. If on monday the machine is restocked with 17 poptart \n",
    "# packages, how likely is it that I will be able to buy some poptarts on Friday afternoon? \n",
    "# (Remember, if you have mean and standard deviation, use the np.random.normal)\n",
    "# You'll need to make a judgement call on how to handle some of your values\n",
    "\n",
    "poptartsaregross= np.random.normal(loc=3,scale=1.5,size=(1000,5))\n",
    "poptartsaregross"
   ]
  },
  {
   "cell_type": "code",
   "execution_count": 259,
   "id": "46924937",
   "metadata": {},
   "outputs": [],
   "source": [
    "poptartsaregross[poptartsaregross <0] = 0"
   ]
  },
  {
   "cell_type": "code",
   "execution_count": 260,
   "id": "e031e92a",
   "metadata": {},
   "outputs": [
    {
     "data": {
      "text/plain": [
       "array([20.35885449, 12.83562295, 10.1833991 , 15.18591098, 15.94901662,\n",
       "       11.35033559, 16.49888585, 16.36277275, 16.98156239, 17.48322982,\n",
       "       17.61785652, 13.96159125, 18.38547862, 16.43466369, 21.46607488,\n",
       "       15.3113123 , 17.0417936 , 17.86024605, 14.26777102, 11.8668304 ,\n",
       "       19.0245129 , 15.2580386 , 16.48304142, 19.95278683, 14.72239252,\n",
       "       16.62613736, 12.0360746 , 14.33568634, 12.88984525, 19.58633682,\n",
       "       14.19897167, 15.06237217, 12.37195456, 15.9634423 , 13.83333796,\n",
       "       14.73455558, 16.76213971, 17.12453963, 16.08660101, 13.02887792,\n",
       "       16.45286937, 13.42447137, 17.53456224, 17.10183956, 15.7573125 ,\n",
       "       13.96827154, 18.8522924 , 17.39045242, 10.61699268, 12.76882338,\n",
       "       14.67108517,  8.37698694, 18.44870998, 16.14957663, 15.53540122,\n",
       "        8.68794566, 12.104487  , 20.36218253, 19.44896525, 11.81996347,\n",
       "       12.99704412, 14.6275384 , 11.76946727,  7.0536163 , 17.51588299,\n",
       "       20.74048659, 18.28051055, 15.46855669, 17.44642397, 16.80577277,\n",
       "       19.72040686, 11.73921235, 12.03290065, 13.98547709, 11.99930162,\n",
       "       12.69994816, 14.31264236, 13.27219982, 13.80682419, 17.26088297,\n",
       "       14.46103837, 20.29330562, 16.82996635,  8.60904123, 11.04951651,\n",
       "       18.66122464, 16.4424809 , 17.21622497,  8.87407069, 12.39092119,\n",
       "       20.75463132, 11.0465123 , 21.20520208, 10.83881699, 12.24624346,\n",
       "       12.16915881, 18.54713591, 13.75409776, 10.26994433, 15.62223139,\n",
       "       16.97762981, 16.50283493, 12.88763737, 21.86674047, 11.54669654,\n",
       "       14.72498681, 14.43109578, 18.52497881, 10.30798727, 14.07412855,\n",
       "       16.38919302, 16.6379162 ,  7.89415141, 12.77604807, 13.22493049,\n",
       "       14.75977117, 17.14300524, 11.04810171, 16.30222416, 19.74418056,\n",
       "       17.24199544,  8.22750796, 20.81879448, 12.40272116, 15.78550258,\n",
       "       15.41639004, 15.38192897,  7.3120485 , 15.35111923, 12.40616431,\n",
       "       14.98121565, 15.80349756, 13.7964422 , 20.80427058, 12.19979055,\n",
       "       14.72916791, 16.79003906, 13.19143511, 17.46986227, 10.40013473,\n",
       "       18.01301512, 12.86077708, 15.54942202, 12.81825321, 14.61906843,\n",
       "       17.07188234, 16.7253546 ,  9.34612402, 15.88486744, 15.88090363,\n",
       "       15.18483375,  7.3171205 , 10.40091412, 19.31376431, 12.28520094,\n",
       "       17.36851547, 10.1720104 , 14.98659588, 10.76488669, 13.60157595,\n",
       "       15.20381234, 18.36178288, 13.98733342, 18.56701289, 12.16557636,\n",
       "       15.18944657, 16.18252592, 19.92318239, 14.54808607, 15.32729674,\n",
       "       19.9555875 , 11.62190429, 17.5062983 , 18.76658973, 15.77332536,\n",
       "       17.47987765, 20.21207118, 18.71738093, 14.37501912, 12.23156044,\n",
       "        4.23671878, 13.83444979, 15.17145289, 13.54646801, 14.39466722,\n",
       "       20.98888178, 16.79092925, 14.26689931, 16.03434031, 13.32740903,\n",
       "       13.365726  , 14.64544044, 13.16589128,  8.11759945, 14.4253942 ,\n",
       "       14.69304793, 19.14752718, 24.03900689, 19.21592983, 17.84926362,\n",
       "       17.12948969, 17.58707864, 14.42056566, 21.5966348 , 10.59533484,\n",
       "       16.7834561 , 14.39223959, 11.608694  ,  8.70283237, 18.09307645,\n",
       "       10.69230166, 18.13987551, 13.78812772, 14.96454298, 10.5307164 ,\n",
       "       12.85886446, 15.02556182,  9.05626994, 20.7939467 , 14.88741191,\n",
       "       20.16708494, 16.52375916, 19.8707578 , 19.83758538, 20.75437078,\n",
       "       13.30251388,  9.91781033, 13.50118357, 15.37813415, 15.76118145,\n",
       "       19.50240408, 17.5882812 , 16.74723814, 14.23436857, 11.71313543,\n",
       "       14.49499296, 11.52110942, 18.29141769, 17.86554433, 22.68012642,\n",
       "       21.19327505, 14.91185568, 16.42404206, 15.65153561, 20.82486801,\n",
       "       18.41257746, 12.38038336, 12.47754244, 13.01492466, 14.80008736,\n",
       "       14.8780791 , 15.43532434, 17.21976494, 13.1437535 , 13.36919995,\n",
       "       16.86887816, 17.58501288, 22.62806533, 15.93706977, 15.62116802,\n",
       "       19.43326465, 15.01245934, 16.90636423, 16.04246364, 18.08234104,\n",
       "       15.82342197, 13.61914614,  9.22446704, 15.65424453, 17.74632664,\n",
       "       12.50888295, 13.81996219, 13.99599808, 18.3917794 , 20.16402332,\n",
       "       20.91656606, 13.15691445, 13.42770189, 12.95007069, 13.01799279,\n",
       "       17.17831894, 15.09048938, 18.94164177, 19.43889844, 16.66266475,\n",
       "       13.34409623, 24.43065728, 20.0598938 , 17.31358398, 15.32559325,\n",
       "       18.45371784, 11.90249033, 16.44149854, 13.48311937, 11.13190965,\n",
       "       11.49721356, 11.77802425, 10.03838399, 21.8331299 , 13.67777915,\n",
       "       11.81771517, 16.63024971, 11.57950233, 13.68288754,  8.25385886,\n",
       "       18.52413693, 17.54924329, 16.9842623 , 16.12533034,  9.32812636,\n",
       "       17.03026493, 11.57575993, 18.37946373, 20.46545075, 15.19577256,\n",
       "       12.10315011, 16.74388516, 10.95770037, 22.61935889, 16.6196369 ,\n",
       "       10.07688521, 12.58050247, 12.86538595, 13.5600741 , 21.50946969,\n",
       "       16.75876005, 12.30909049, 18.21518886,  8.32809799, 10.70957693,\n",
       "       14.20616285, 15.44599963, 13.95040246, 10.89052983, 12.072259  ,\n",
       "       13.63565831, 13.70845588, 19.8830792 , 15.15534231, 14.2483819 ,\n",
       "       18.31630603, 19.96909244, 11.89117433, 16.29577193, 15.30116438,\n",
       "       16.94581935, 14.18086552, 19.22454241, 17.53979928,  8.48186569,\n",
       "       12.6706293 , 18.48423294, 16.30770563, 16.16712398, 15.01637223,\n",
       "       15.86140389, 17.48509726, 10.12990422,  9.44740003, 16.53072224,\n",
       "       11.95042546, 16.70068207, 11.12110276, 24.81565198, 14.22778247,\n",
       "       12.69273253, 15.39504076, 15.94961111, 16.7166492 , 19.67868839,\n",
       "       14.20506241, 14.43623135, 18.21741351, 11.10546063,  9.96271187,\n",
       "       10.2424064 , 18.16092562, 12.55609693, 13.16311056, 15.02767792,\n",
       "        9.39682622, 17.09142485, 11.82017239, 18.54758186, 17.60900425,\n",
       "       15.81011034, 17.60435442, 12.75477585, 14.74423562, 14.42130938,\n",
       "       13.0830194 , 11.37511735, 16.11400471, 17.27452431, 15.50100593,\n",
       "       16.18125879, 14.0209526 , 17.43925199, 14.71794346, 18.46150577,\n",
       "       18.63524461, 14.6658074 , 16.53936048, 15.38272405, 10.95100754,\n",
       "       13.0109177 , 11.27034764, 14.58998711, 11.45760888, 14.0289342 ,\n",
       "       13.95989341, 15.03142501, 11.30084888, 13.79628578, 11.33050227,\n",
       "       17.99711281, 20.03185555, 10.84003268, 16.73300246, 17.52974041,\n",
       "       16.42707541, 17.26507104, 13.3176356 , 16.16378342, 13.60239982,\n",
       "       11.95517745, 13.97606643, 20.08286374, 13.78543639, 13.80173481,\n",
       "       16.57172178,  9.00179972, 19.0674452 , 16.12698685, 15.55812215,\n",
       "       12.92722522, 17.29506458, 12.29772645, 19.22951768, 13.6432332 ,\n",
       "       16.4250175 , 13.83207996, 11.39606885, 18.52742009, 13.18681471,\n",
       "       11.99587452, 13.0564657 , 11.32119961, 12.35402691, 11.48448979,\n",
       "       13.17667671, 12.18019294, 15.80607737, 12.39568167, 18.92737247,\n",
       "        9.63582594, 15.65190823, 18.22304577, 11.01489321, 13.74486077,\n",
       "       13.84439473, 12.85341877, 16.68534036, 15.32062917, 11.89715656,\n",
       "       16.29932283, 16.35902642, 16.41574775, 11.86263323, 17.964947  ,\n",
       "       15.36050034, 22.66450039, 10.90383311, 17.2116076 , 15.9922472 ,\n",
       "       11.44288203, 14.61295154, 16.45600333, 17.78307938,  9.00315937,\n",
       "       11.78690877, 13.61272258, 14.26538352, 15.43780258, 15.08063341,\n",
       "       12.65624056, 19.90819831, 16.31000004, 13.44966577, 15.72774491,\n",
       "       19.49350499, 18.93279683, 19.82514028, 16.96120454, 18.41961065,\n",
       "       12.73701573, 11.84605441, 18.47315324, 14.63601327, 16.73966957,\n",
       "       20.27945941, 17.78675819, 13.35377838, 12.35152284,  8.73000288,\n",
       "       17.35128464, 16.72661501, 20.3118077 , 10.63183121, 17.31551689,\n",
       "       12.82288459, 10.01275072, 13.01552734, 15.48898252, 18.83831913,\n",
       "       20.48295277, 16.72503008, 13.89648737, 15.01267021, 11.8130922 ,\n",
       "       15.23836557, 10.546612  , 16.62536967, 14.65316794, 11.49957127,\n",
       "       13.09086136, 13.39295795, 16.65311549, 16.53642117,  8.93152589,\n",
       "       19.00636073, 13.58223671, 12.92947829,  7.56479048, 15.95353729,\n",
       "       13.22704313, 12.84790445, 16.34633916,  8.3119188 , 10.65194052,\n",
       "       17.12521819, 12.83474324, 16.23569911, 13.90146089, 15.92773454,\n",
       "       16.04779188, 12.63967561, 17.63666718, 18.96827961, 16.97227858,\n",
       "       17.95536192, 18.59942952, 14.87212409, 13.2190685 , 15.83918474,\n",
       "       16.86526153, 16.52990626, 14.91388761, 14.71837038, 16.98210637,\n",
       "       18.76936059, 13.36574359, 17.7422283 , 17.1385986 , 17.44002001,\n",
       "       12.16161792, 11.77537429, 11.89460866, 18.51172398, 12.52341099,\n",
       "       14.71052346, 14.12534829, 11.94138438, 15.44111144, 13.45901502,\n",
       "       10.9178181 , 14.64771663, 12.71725498, 18.29526363, 14.35290622,\n",
       "       10.26783671, 18.60390202, 18.03780497, 15.48094251, 17.2545347 ,\n",
       "       13.86078001, 18.43302226, 12.64925999, 16.33862815, 17.44925631,\n",
       "       18.46026447, 18.07192122, 17.96538984, 14.90446094, 13.82384179,\n",
       "       23.30125948, 11.36672872, 15.09055574, 13.16173336, 14.79973849,\n",
       "       11.93147867, 10.06823213, 15.81096296, 20.51086669, 20.21834442,\n",
       "       11.9719667 , 10.6216141 , 13.11941128, 10.40954574, 18.1368421 ,\n",
       "       11.59787774, 14.96961165, 14.7301556 , 18.35459798, 19.70834867,\n",
       "       11.50140839, 15.27702123, 12.34924652, 19.88732417, 16.80148472,\n",
       "       14.58412605, 14.48848874, 15.40516399, 13.62708078, 11.63966335,\n",
       "       12.13197775, 19.02833602,  8.47095939, 13.15087344, 16.85758036,\n",
       "       12.26338433, 20.34016445, 17.55617957, 15.73164953, 16.13904381,\n",
       "       14.84215471, 17.65142542, 17.88264453, 10.57143323, 13.90915751,\n",
       "       18.64970042, 13.07805628, 15.98595564, 17.94185294, 21.33279749,\n",
       "       16.09869834, 15.15658149, 14.94029592, 17.13954185, 13.0101002 ,\n",
       "       15.12088126, 13.57285206, 17.03471717, 14.03738287, 13.43460504,\n",
       "       17.17533349,  9.73305616, 14.96036475, 16.16475004, 19.93899495,\n",
       "       16.31058171, 17.55504958, 11.45517239, 16.75393702, 18.79880399,\n",
       "        8.88952954, 14.15337911, 12.58883791, 18.78661001, 11.34686405,\n",
       "       17.59995084, 20.5929469 , 18.42150983, 10.4946688 , 11.89335259,\n",
       "       20.61285386, 14.27078358, 11.39245104, 10.38907379, 13.62743164,\n",
       "       15.0759457 , 12.79945297, 11.78368354, 19.26430718, 12.70993463,\n",
       "       14.07191549, 16.00644042, 18.44764802, 23.32166946, 12.63393003,\n",
       "       19.6017169 , 15.42448563, 17.81817105, 20.82053316, 16.35163565,\n",
       "       12.83804993, 12.70206847, 12.19735947, 20.61405054, 12.25889188,\n",
       "        9.90530182, 11.89920406,  7.97218721, 19.84278173, 19.92549404,\n",
       "       14.08156561, 20.36267532, 11.98910113, 15.9306536 , 13.2158929 ,\n",
       "       14.0654363 ,  7.11948859, 17.99630217, 12.02350361, 12.96283396,\n",
       "       14.89311936, 16.41035399, 15.99189887, 11.31215329, 14.760074  ,\n",
       "       11.35424533, 16.67694185, 19.31635645, 12.14884992, 16.06230096,\n",
       "       17.55179126, 15.79239011, 16.68686673, 17.92723431, 15.98246631,\n",
       "       19.53935135, 14.62824389, 12.02126922, 15.188122  , 10.00578323,\n",
       "       13.14996087, 11.28642311, 20.91535407, 18.88709969, 18.58081698,\n",
       "       22.3085205 , 17.30007563, 12.77667573, 18.8387434 , 13.48078257,\n",
       "       14.97392299, 12.66853036, 16.82980242, 13.36258344, 12.68108197,\n",
       "       11.79993155, 17.02807608, 10.47253988,  9.69262356, 18.8738164 ,\n",
       "       11.08831757, 15.02004747, 12.50043558, 19.69422854, 17.95623802,\n",
       "       11.30956566, 10.74737068, 11.77096287, 18.67250384, 17.6268449 ,\n",
       "       19.91300736,  7.60143152, 12.95392882, 18.93738497, 13.10644685,\n",
       "       18.60048835, 12.57908875, 20.03903365, 14.01430625, 19.49544101,\n",
       "       16.4720009 , 16.2668774 , 14.82821103, 13.27293393,  8.42684961,\n",
       "       15.73949759, 12.42809434, 14.19968992,  7.61646655, 12.00978947,\n",
       "       14.56927311, 12.69603176, 18.88452048, 17.07139609, 16.20492814,\n",
       "       16.32964786, 18.76516132, 15.29018978, 10.30357742, 15.92489774,\n",
       "       17.99910045, 22.28105069, 14.26095203, 20.56951504, 14.89427175,\n",
       "       13.87945856, 22.5796045 , 11.41387719, 18.12218768, 15.55315437,\n",
       "       15.95396646, 11.09069919, 20.1837397 , 16.61932692, 18.039026  ,\n",
       "       19.37575068, 12.30604541, 21.36564407,  8.98338106, 18.85829709,\n",
       "       16.01516976, 12.20412037, 15.53636081,  9.58255785, 10.95188748,\n",
       "       23.69972833, 14.29429136, 16.18344695, 14.99320014, 18.65789238,\n",
       "       19.97866454, 17.53362745, 18.29987762,  8.93596337, 16.83960089,\n",
       "        8.76372426, 11.67762011, 16.8860562 , 15.16710384, 16.19248425,\n",
       "       15.26689372, 12.5853293 , 16.0502471 ,  8.51694544, 17.68606899,\n",
       "       16.18048023, 16.76886215, 16.56205533, 16.38541845, 14.58491371,\n",
       "       14.10579817, 16.60695269, 18.67458955, 17.1933856 , 15.32679481,\n",
       "       15.27915379, 13.60838101, 18.47104571,  8.93976263, 12.46564917,\n",
       "       17.53228138, 17.62079688, 18.59992097, 19.70878783, 11.2417519 ,\n",
       "       10.49595606, 16.42490196, 10.6551764 , 17.21180768, 12.21994358,\n",
       "       19.85394976,  9.02679306, 16.26340949, 18.94352529, 12.39176605,\n",
       "       14.00121997, 17.29931036, 15.10126874, 18.16568034, 19.13941793,\n",
       "       12.95989071, 16.98151335, 17.08304723, 11.35712601, 15.40377751,\n",
       "       14.69760243, 12.59531411, 17.66718206, 10.51666366, 14.18845285,\n",
       "       16.81002911, 17.64870399, 11.84844699, 16.0791198 , 14.74768021,\n",
       "       10.41362052, 13.67324229, 12.39421157, 13.512786  , 15.59965518,\n",
       "       12.46201088, 21.2425226 , 16.59370579, 15.52784206, 15.85798379,\n",
       "       16.88817585, 14.96586354, 16.47039809, 14.06037013, 11.65402599,\n",
       "        9.96210439, 15.57290757, 11.96100781,  8.58423759, 18.72138747,\n",
       "       19.0147219 , 21.00722307, 19.50621519, 21.56761834, 18.54586061,\n",
       "        9.17414659,  9.60096518, 19.38235476, 14.82615463, 14.20153407,\n",
       "       19.92784254, 19.37542185, 15.92675327, 17.31524719, 10.74133059,\n",
       "       16.22944771, 14.3805103 , 10.00813158, 12.92855983, 20.45995646,\n",
       "       18.0996851 , 12.89445354, 18.52535782, 13.00316868, 18.43084726,\n",
       "       14.50870539,  8.5303269 , 19.16105456, 16.65184012, 13.48046347,\n",
       "        8.77722604, 14.07064909,  9.37387729, 12.84961032, 13.40813001,\n",
       "       21.72146288, 15.98913143, 14.6895789 , 15.88943585, 16.69543619,\n",
       "       19.03958942, 11.40356114,  8.0256836 , 18.60956567, 18.84778497,\n",
       "       12.14884074, 14.75517215, 12.56636299, 16.01320108, 11.99733696,\n",
       "       16.76419645, 16.55958072,  9.21322691, 11.26892862, 13.14004781,\n",
       "       19.61593471, 16.82507647, 20.54354882, 10.91691379, 18.13064622,\n",
       "        7.95410549, 12.96156903, 13.12064463, 14.87574694, 13.19464798,\n",
       "       10.92115882, 18.16898648, 15.93664808, 14.26388425, 11.58181089,\n",
       "        7.17920084, 23.63212536, 17.70801609, 20.6252679 , 19.42022748,\n",
       "       10.52162438, 10.99528674, 13.58282208, 18.94276489, 22.66393979,\n",
       "       16.32947661, 16.13739265, 14.84019111, 16.36529379, 11.87160632,\n",
       "       14.3189649 ,  8.14020779, 12.90140616, 13.83819638, 14.80479053])"
      ]
     },
     "execution_count": 260,
     "metadata": {},
     "output_type": "execute_result"
    }
   ],
   "source": [
    "poptartsaregross.sum(axis=1)"
   ]
  },
  {
   "cell_type": "code",
   "execution_count": 261,
   "id": "27dea362",
   "metadata": {},
   "outputs": [
    {
     "data": {
      "text/plain": [
       "array([False,  True,  True,  True,  True,  True,  True,  True,  True,\n",
       "       False, False,  True, False,  True, False,  True, False, False,\n",
       "        True,  True, False,  True,  True, False,  True,  True,  True,\n",
       "        True,  True, False,  True,  True,  True,  True,  True,  True,\n",
       "        True, False,  True,  True,  True,  True, False, False,  True,\n",
       "        True, False, False,  True,  True,  True,  True, False,  True,\n",
       "        True,  True,  True, False, False,  True,  True,  True,  True,\n",
       "        True, False, False, False,  True, False,  True, False,  True,\n",
       "        True,  True,  True,  True,  True,  True,  True, False,  True,\n",
       "       False,  True,  True,  True, False,  True, False,  True,  True,\n",
       "       False,  True, False,  True,  True,  True, False,  True,  True,\n",
       "        True,  True,  True,  True, False,  True,  True,  True, False,\n",
       "        True,  True,  True,  True,  True,  True,  True,  True, False,\n",
       "        True,  True, False, False,  True, False,  True,  True,  True,\n",
       "        True,  True,  True,  True,  True,  True,  True, False,  True,\n",
       "        True,  True,  True, False,  True, False,  True,  True,  True,\n",
       "        True, False,  True,  True,  True,  True,  True,  True,  True,\n",
       "       False,  True, False,  True,  True,  True,  True,  True, False,\n",
       "        True, False,  True,  True,  True, False,  True,  True, False,\n",
       "        True, False, False,  True, False, False, False,  True,  True,\n",
       "        True,  True,  True,  True,  True, False,  True,  True,  True,\n",
       "        True,  True,  True,  True,  True,  True,  True, False, False,\n",
       "       False, False, False, False,  True, False,  True,  True,  True,\n",
       "        True,  True, False,  True, False,  True,  True,  True,  True,\n",
       "        True,  True, False,  True, False,  True, False, False, False,\n",
       "        True,  True,  True,  True,  True, False, False,  True,  True,\n",
       "        True,  True,  True, False, False, False, False,  True,  True,\n",
       "        True, False, False,  True,  True,  True,  True,  True,  True,\n",
       "       False,  True,  True,  True, False, False,  True,  True, False,\n",
       "        True,  True,  True, False,  True,  True,  True,  True, False,\n",
       "        True,  True,  True, False, False, False,  True,  True,  True,\n",
       "        True, False,  True, False, False,  True,  True, False, False,\n",
       "       False,  True, False,  True,  True,  True,  True,  True,  True,\n",
       "        True, False,  True,  True,  True,  True,  True,  True, False,\n",
       "       False,  True,  True,  True, False,  True, False, False,  True,\n",
       "        True,  True,  True, False,  True,  True,  True,  True,  True,\n",
       "       False,  True,  True, False,  True,  True,  True,  True,  True,\n",
       "        True,  True,  True,  True, False,  True,  True, False, False,\n",
       "        True,  True,  True,  True,  True, False, False,  True,  True,\n",
       "       False,  True,  True,  True,  True, False,  True,  True,  True,\n",
       "        True,  True,  True, False,  True,  True,  True,  True,  True,\n",
       "       False,  True,  True, False,  True,  True,  True, False,  True,\n",
       "        True,  True,  True, False,  True, False, False,  True, False,\n",
       "        True,  True,  True,  True,  True,  True, False,  True,  True,\n",
       "        True, False,  True, False, False,  True,  True,  True,  True,\n",
       "        True,  True,  True,  True,  True,  True,  True,  True,  True,\n",
       "        True, False, False,  True,  True, False,  True, False,  True,\n",
       "        True,  True,  True,  True, False,  True,  True,  True,  True,\n",
       "       False,  True,  True,  True, False,  True, False,  True,  True,\n",
       "        True,  True, False,  True,  True,  True,  True,  True,  True,\n",
       "        True,  True,  True,  True, False,  True,  True, False,  True,\n",
       "        True,  True,  True,  True,  True,  True,  True,  True,  True,\n",
       "        True, False,  True, False,  True, False,  True,  True,  True,\n",
       "        True, False,  True,  True,  True,  True,  True,  True,  True,\n",
       "       False,  True,  True,  True, False, False, False,  True, False,\n",
       "        True,  True, False,  True,  True, False, False,  True,  True,\n",
       "        True, False,  True, False,  True, False,  True,  True,  True,\n",
       "        True, False, False,  True,  True,  True,  True,  True,  True,\n",
       "        True,  True,  True,  True,  True,  True,  True,  True, False,\n",
       "        True,  True,  True,  True,  True,  True,  True,  True,  True,\n",
       "       False,  True,  True,  True,  True,  True,  True, False, False,\n",
       "        True, False, False,  True,  True,  True,  True,  True,  True,\n",
       "        True,  True, False,  True, False, False, False,  True,  True,\n",
       "        True, False,  True,  True,  True,  True,  True,  True,  True,\n",
       "        True,  True, False,  True,  True, False, False,  True, False,\n",
       "        True, False,  True,  True, False, False, False, False,  True,\n",
       "        True, False,  True,  True,  True,  True,  True,  True,  True,\n",
       "       False, False,  True,  True,  True,  True, False,  True,  True,\n",
       "        True, False, False,  True,  True,  True, False,  True,  True,\n",
       "        True,  True,  True,  True,  True, False,  True,  True,  True,\n",
       "        True, False, False,  True,  True,  True, False, False,  True,\n",
       "        True, False,  True,  True, False, False,  True,  True,  True,\n",
       "       False,  True,  True,  True, False,  True,  True, False,  True,\n",
       "        True,  True, False,  True, False,  True,  True, False,  True,\n",
       "        True,  True, False,  True, False, False, False,  True,  True,\n",
       "       False,  True,  True,  True,  True,  True,  True,  True, False,\n",
       "        True,  True,  True, False, False,  True, False,  True, False,\n",
       "       False,  True,  True,  True,  True, False,  True,  True,  True,\n",
       "        True, False, False,  True, False,  True,  True,  True,  True,\n",
       "        True, False,  True,  True,  True,  True,  True,  True,  True,\n",
       "        True,  True, False,  True,  True, False,  True,  True, False,\n",
       "        True, False,  True,  True,  True,  True,  True,  True, False,\n",
       "       False, False, False, False,  True, False,  True,  True,  True,\n",
       "        True,  True,  True,  True, False,  True,  True, False,  True,\n",
       "        True,  True, False, False,  True,  True,  True, False, False,\n",
       "       False,  True,  True, False,  True, False,  True, False,  True,\n",
       "       False,  True,  True,  True,  True,  True,  True,  True,  True,\n",
       "        True,  True,  True,  True, False, False,  True,  True, False,\n",
       "        True,  True,  True, False, False,  True, False,  True,  True,\n",
       "       False,  True, False,  True,  True,  True, False,  True, False,\n",
       "       False,  True, False,  True, False,  True,  True,  True,  True,\n",
       "        True, False,  True,  True,  True, False, False, False, False,\n",
       "        True,  True,  True,  True,  True,  True,  True,  True,  True,\n",
       "        True,  True, False,  True,  True,  True,  True,  True,  True,\n",
       "        True, False, False,  True,  True,  True, False,  True,  True,\n",
       "       False, False, False, False,  True,  True,  True,  True, False,\n",
       "        True, False,  True,  True, False,  True,  True, False,  True,\n",
       "       False, False,  True,  True, False,  True,  True,  True,  True,\n",
       "       False,  True,  True,  True, False,  True,  True,  True,  True,\n",
       "        True,  True,  True,  True,  True, False,  True,  True,  True,\n",
       "        True,  True,  True,  True,  True,  True,  True,  True,  True,\n",
       "       False, False, False, False, False, False,  True,  True, False,\n",
       "        True,  True, False, False,  True, False,  True,  True,  True,\n",
       "        True,  True, False, False,  True, False,  True, False,  True,\n",
       "        True, False,  True,  True,  True,  True,  True,  True,  True,\n",
       "       False,  True,  True,  True,  True, False,  True,  True, False,\n",
       "       False,  True,  True,  True,  True,  True,  True,  True,  True,\n",
       "        True,  True, False,  True, False,  True, False,  True,  True,\n",
       "        True,  True,  True,  True, False,  True,  True,  True,  True,\n",
       "       False, False, False, False,  True,  True,  True, False, False,\n",
       "        True,  True,  True,  True,  True,  True,  True,  True,  True,\n",
       "        True])"
      ]
     },
     "execution_count": 261,
     "metadata": {},
     "output_type": "execute_result"
    }
   ],
   "source": [
    "poptartsaregross.sum(axis=1) <=17"
   ]
  },
  {
   "cell_type": "code",
   "execution_count": 264,
   "id": "0a4c6876",
   "metadata": {},
   "outputs": [
    {
     "data": {
      "text/plain": [
       "0.711"
      ]
     },
     "execution_count": 264,
     "metadata": {},
     "output_type": "execute_result"
    }
   ],
   "source": [
    "(poptartsaregross.sum(axis=1) <=17).mean()\n",
    "\n",
    "# There's a 72% chance that I can buy a poptart Friday."
   ]
  },
  {
   "cell_type": "code",
   "execution_count": 283,
   "id": "e7b2d246",
   "metadata": {},
   "outputs": [
    {
     "data": {
      "text/plain": [
       "array([166.08348557, 164.03046538, 176.6224632 , ..., 171.40894964,\n",
       "       178.51622464, 183.12742423])"
      ]
     },
     "execution_count": 283,
     "metadata": {},
     "output_type": "execute_result"
    }
   ],
   "source": [
    "# Exercise 5. Compare Heights\n",
    "\n",
    "#     Men have an average height of 178 cm and standard deviation of 8cm.\n",
    "#     Women have a mean of 170, sd = 6cm.\n",
    "#     Since you have means and standard deviations, you can use np.random.normal to generate observations.\n",
    "#     If a man and woman are chosen at random, what is the likelihood the woman is taller than the man?\n",
    "\n",
    "women = np.random.normal(170, 6, size=(10000))\n",
    "men = np.random.normal(178, 8, size = (10000))\n",
    "women"
   ]
  },
  {
   "cell_type": "code",
   "execution_count": 281,
   "id": "1c641d03",
   "metadata": {},
   "outputs": [
    {
     "data": {
      "text/plain": [
       "array([174.56137057, 160.41703116, 185.00070316, ..., 190.70524344,\n",
       "       166.65923064, 177.88878136])"
      ]
     },
     "execution_count": 281,
     "metadata": {},
     "output_type": "execute_result"
    }
   ],
   "source": [
    "men"
   ]
  },
  {
   "cell_type": "code",
   "execution_count": 284,
   "id": "82344c2f",
   "metadata": {},
   "outputs": [
    {
     "data": {
      "text/plain": [
       "0.2131"
      ]
     },
     "execution_count": 284,
     "metadata": {},
     "output_type": "execute_result"
    }
   ],
   "source": [
    "(women > men).mean()\n",
    "\n",
    "# 21% chance that the woman is taller"
   ]
  },
  {
   "cell_type": "code",
   "execution_count": 32,
   "id": "d4bfea40",
   "metadata": {},
   "outputs": [
    {
     "data": {
      "text/plain": [
       "array([[0, 0, 0, ..., 0, 0, 0],\n",
       "       [0, 0, 0, ..., 0, 0, 0],\n",
       "       [0, 0, 0, ..., 0, 0, 0],\n",
       "       ...,\n",
       "       [0, 0, 0, ..., 0, 0, 0],\n",
       "       [0, 0, 0, ..., 0, 0, 0],\n",
       "       [0, 0, 0, ..., 0, 0, 0]])"
      ]
     },
     "execution_count": 32,
     "metadata": {},
     "output_type": "execute_result"
    }
   ],
   "source": [
    "\n",
    "\n",
    "# When installing anaconda on a student's computer, there's a 1 in 250 chance that the \n",
    "# download is corrupted and the installation fails. \n",
    "# What are the odds that after having 50 students download anaconda, no one has \n",
    "#an installation issue? \n",
    "\n",
    "\n",
    "#A: With 50 students, there's an 81% chance that no one has installation issues\n",
    "\n",
    "myandacondadont= np.random.choice([0,1], size = (1000,50), p=[249/250, 1/250])\n",
    "myandacondadont"
   ]
  },
  {
   "cell_type": "code",
   "execution_count": 33,
   "id": "3311f1a1",
   "metadata": {},
   "outputs": [
    {
     "data": {
      "text/plain": [
       "0.816"
      ]
     },
     "execution_count": 33,
     "metadata": {},
     "output_type": "execute_result"
    }
   ],
   "source": [
    "(myandacondadont.sum(axis = 1) == 0).mean()"
   ]
  },
  {
   "cell_type": "code",
   "execution_count": 34,
   "id": "84cf3c45",
   "metadata": {},
   "outputs": [
    {
     "data": {
      "text/plain": [
       "array([ True,  True,  True,  True,  True,  True,  True, False,  True,\n",
       "        True,  True,  True,  True,  True, False,  True,  True,  True,\n",
       "        True,  True,  True,  True,  True,  True,  True,  True,  True,\n",
       "        True,  True,  True,  True,  True,  True,  True,  True,  True,\n",
       "       False, False, False,  True,  True, False,  True,  True,  True,\n",
       "       False,  True, False, False, False,  True,  True,  True,  True,\n",
       "        True, False,  True,  True,  True,  True, False,  True,  True,\n",
       "        True,  True, False,  True,  True, False, False, False,  True,\n",
       "        True,  True,  True, False,  True,  True, False,  True,  True,\n",
       "       False, False,  True,  True,  True,  True,  True,  True,  True,\n",
       "        True,  True,  True, False,  True,  True,  True,  True,  True,\n",
       "       False, False,  True, False,  True,  True,  True, False,  True,\n",
       "        True,  True,  True,  True,  True,  True,  True,  True,  True,\n",
       "        True, False,  True,  True, False, False,  True,  True,  True,\n",
       "        True,  True,  True,  True,  True,  True,  True,  True,  True,\n",
       "        True,  True,  True,  True,  True, False,  True,  True, False,\n",
       "        True, False, False,  True,  True,  True,  True,  True,  True,\n",
       "        True,  True,  True, False, False,  True,  True, False,  True,\n",
       "        True,  True,  True, False,  True,  True, False,  True,  True,\n",
       "        True, False,  True,  True,  True,  True,  True,  True,  True,\n",
       "        True,  True,  True,  True,  True,  True,  True,  True,  True,\n",
       "        True,  True,  True,  True, False,  True,  True,  True,  True,\n",
       "        True,  True,  True,  True, False,  True,  True, False,  True,\n",
       "       False,  True,  True,  True,  True,  True, False,  True,  True,\n",
       "        True,  True,  True,  True,  True,  True,  True,  True,  True,\n",
       "       False,  True,  True, False,  True,  True,  True,  True,  True,\n",
       "        True,  True,  True,  True,  True, False, False,  True,  True,\n",
       "        True,  True,  True,  True,  True,  True,  True, False,  True,\n",
       "        True,  True,  True,  True,  True,  True, False,  True,  True,\n",
       "       False,  True,  True,  True,  True,  True,  True, False,  True,\n",
       "        True,  True,  True,  True,  True,  True, False,  True,  True,\n",
       "        True,  True,  True, False,  True,  True,  True,  True,  True,\n",
       "        True,  True,  True,  True,  True,  True,  True,  True,  True,\n",
       "        True,  True,  True,  True,  True,  True,  True,  True,  True,\n",
       "        True,  True, False, False, False,  True,  True, False,  True,\n",
       "        True, False,  True, False,  True,  True,  True,  True,  True,\n",
       "        True,  True,  True, False,  True,  True,  True,  True,  True,\n",
       "        True,  True,  True,  True, False,  True,  True,  True,  True,\n",
       "        True,  True,  True,  True,  True,  True, False,  True,  True,\n",
       "       False, False, False,  True,  True,  True,  True,  True,  True,\n",
       "        True,  True,  True,  True,  True,  True,  True,  True,  True,\n",
       "        True,  True,  True,  True, False,  True, False,  True,  True,\n",
       "        True,  True,  True,  True,  True,  True,  True,  True, False,\n",
       "       False,  True,  True,  True,  True,  True,  True,  True,  True,\n",
       "       False,  True,  True,  True,  True,  True, False,  True,  True,\n",
       "        True,  True,  True, False,  True,  True, False,  True,  True,\n",
       "        True,  True,  True,  True,  True,  True,  True,  True,  True,\n",
       "        True,  True,  True,  True,  True,  True,  True,  True,  True,\n",
       "       False,  True,  True,  True,  True,  True,  True,  True,  True,\n",
       "        True,  True, False,  True,  True,  True,  True,  True,  True,\n",
       "        True,  True, False,  True,  True,  True,  True, False,  True,\n",
       "        True,  True,  True,  True,  True, False, False,  True,  True,\n",
       "       False, False,  True,  True,  True,  True,  True,  True,  True,\n",
       "        True,  True,  True,  True,  True,  True,  True,  True, False,\n",
       "        True, False, False, False,  True,  True, False, False,  True,\n",
       "        True,  True,  True,  True,  True,  True,  True, False, False,\n",
       "       False, False,  True,  True,  True,  True, False,  True,  True,\n",
       "        True,  True,  True,  True,  True,  True, False,  True,  True,\n",
       "       False,  True, False,  True, False, False,  True,  True,  True,\n",
       "        True,  True,  True,  True,  True, False, False,  True,  True,\n",
       "       False, False,  True,  True, False,  True,  True,  True, False,\n",
       "        True,  True,  True,  True,  True, False,  True, False,  True,\n",
       "        True,  True,  True,  True, False,  True, False,  True,  True,\n",
       "        True,  True,  True, False,  True,  True, False,  True, False,\n",
       "        True, False,  True, False, False,  True, False, False, False,\n",
       "        True,  True,  True, False, False,  True,  True, False, False,\n",
       "        True,  True,  True,  True,  True,  True, False,  True,  True,\n",
       "        True,  True,  True,  True, False,  True,  True,  True,  True,\n",
       "        True,  True,  True,  True, False,  True,  True,  True,  True,\n",
       "       False,  True, False,  True,  True, False, False,  True,  True,\n",
       "        True,  True,  True,  True,  True,  True,  True,  True, False,\n",
       "        True,  True,  True,  True,  True,  True, False,  True,  True,\n",
       "        True,  True,  True,  True, False,  True,  True,  True,  True,\n",
       "        True,  True,  True,  True,  True,  True,  True,  True,  True,\n",
       "        True, False,  True,  True,  True,  True,  True,  True,  True,\n",
       "        True,  True,  True,  True,  True,  True,  True,  True,  True,\n",
       "        True, False, False,  True,  True,  True,  True,  True,  True,\n",
       "        True,  True,  True,  True,  True,  True,  True, False,  True,\n",
       "        True,  True,  True,  True, False,  True, False,  True,  True,\n",
       "        True,  True,  True, False,  True,  True,  True,  True,  True,\n",
       "        True, False,  True,  True,  True,  True,  True,  True,  True,\n",
       "        True,  True,  True,  True,  True,  True, False,  True,  True,\n",
       "       False,  True, False,  True,  True, False, False,  True,  True,\n",
       "        True,  True,  True, False, False,  True,  True,  True,  True,\n",
       "       False,  True,  True,  True,  True, False,  True,  True,  True,\n",
       "        True,  True,  True,  True,  True,  True, False,  True, False,\n",
       "       False,  True,  True,  True,  True,  True,  True,  True,  True,\n",
       "        True, False,  True,  True,  True,  True,  True,  True,  True,\n",
       "        True,  True,  True,  True,  True,  True,  True,  True,  True,\n",
       "        True,  True,  True,  True,  True,  True,  True,  True,  True,\n",
       "        True,  True,  True,  True,  True,  True, False,  True, False,\n",
       "        True,  True,  True,  True,  True, False,  True, False,  True,\n",
       "        True,  True,  True,  True,  True,  True,  True,  True,  True,\n",
       "       False,  True,  True,  True,  True, False,  True, False,  True,\n",
       "        True, False,  True,  True,  True,  True,  True,  True, False,\n",
       "        True,  True,  True,  True,  True, False, False,  True,  True,\n",
       "        True,  True,  True,  True,  True,  True,  True,  True,  True,\n",
       "        True, False,  True,  True,  True,  True,  True,  True,  True,\n",
       "        True, False,  True,  True,  True, False,  True,  True,  True,\n",
       "        True,  True,  True, False,  True,  True,  True, False,  True,\n",
       "       False, False,  True,  True,  True,  True,  True,  True,  True,\n",
       "        True,  True,  True,  True,  True,  True,  True,  True,  True,\n",
       "        True,  True,  True,  True,  True, False,  True,  True,  True,\n",
       "        True, False,  True,  True,  True,  True,  True,  True,  True,\n",
       "        True, False, False,  True, False,  True,  True,  True, False,\n",
       "        True,  True,  True, False,  True,  True, False, False,  True,\n",
       "       False,  True,  True,  True, False,  True,  True,  True,  True,\n",
       "        True,  True,  True,  True, False,  True,  True,  True,  True,\n",
       "        True,  True,  True,  True,  True,  True,  True, False,  True,\n",
       "        True,  True,  True,  True, False,  True,  True,  True,  True,\n",
       "        True,  True,  True,  True,  True,  True,  True, False,  True,\n",
       "        True])"
      ]
     },
     "execution_count": 34,
     "metadata": {},
     "output_type": "execute_result"
    }
   ],
   "source": [
    "myandacondadont.sum(axis = 1) == 0"
   ]
  },
  {
   "cell_type": "code",
   "execution_count": 35,
   "id": "8efd1609",
   "metadata": {},
   "outputs": [
    {
     "data": {
      "text/plain": [
       "0.816"
      ]
     },
     "execution_count": 35,
     "metadata": {},
     "output_type": "execute_result"
    }
   ],
   "source": [
    "(myandacondadont.sum(axis=1)==0).mean()"
   ]
  },
  {
   "cell_type": "code",
   "execution_count": 36,
   "id": "370ee8b2",
   "metadata": {},
   "outputs": [
    {
     "data": {
      "text/plain": [
       "array([[0, 0, 0, ..., 0, 0, 0],\n",
       "       [0, 0, 0, ..., 0, 0, 0],\n",
       "       [0, 0, 0, ..., 0, 0, 0],\n",
       "       ...,\n",
       "       [0, 0, 0, ..., 0, 0, 0],\n",
       "       [0, 0, 0, ..., 0, 0, 0],\n",
       "       [0, 0, 0, ..., 0, 0, 0]])"
      ]
     },
     "execution_count": 36,
     "metadata": {},
     "output_type": "execute_result"
    }
   ],
   "source": [
    "#With 100 students?\n",
    "\n",
    "\n",
    "#A: With 100 installations, there's a 66% chance of no installation errors\n",
    "\n",
    "wantnone= np.random.choice([0,1], size = (1000,100), p=[249/250, 1/250])\n",
    "wantnone"
   ]
  },
  {
   "cell_type": "code",
   "execution_count": 37,
   "id": "62457a96",
   "metadata": {},
   "outputs": [
    {
     "data": {
      "text/plain": [
       "0.663"
      ]
     },
     "execution_count": 37,
     "metadata": {},
     "output_type": "execute_result"
    }
   ],
   "source": [
    "(wantnone.sum(axis=1)==0).mean()"
   ]
  },
  {
   "cell_type": "code",
   "execution_count": 38,
   "id": "16cf4eba",
   "metadata": {},
   "outputs": [
    {
     "data": {
      "text/plain": [
       "array([[0, 0, 0, ..., 0, 0, 0],\n",
       "       [0, 0, 0, ..., 0, 0, 0],\n",
       "       [0, 0, 0, ..., 0, 0, 0],\n",
       "       ...,\n",
       "       [0, 0, 0, ..., 0, 0, 0],\n",
       "       [0, 0, 0, ..., 0, 0, 0],\n",
       "       [0, 0, 0, ..., 0, 0, 0]])"
      ]
     },
     "execution_count": 38,
     "metadata": {},
     "output_type": "execute_result"
    }
   ],
   "source": [
    "# What is the probability that we observe an installation issue within the \n",
    "# first 150 students that download anaconda?\n",
    "\n",
    "\n",
    "# A: .476 probability\n",
    "\n",
    "\n",
    "unlessyougot= np.random.choice([0,1], size = (1000,150), p=[249/250, 1/250])\n",
    "unlessyougot"
   ]
  },
  {
   "cell_type": "code",
   "execution_count": 39,
   "id": "fe75ad69",
   "metadata": {},
   "outputs": [
    {
     "data": {
      "text/plain": [
       "0.476"
      ]
     },
     "execution_count": 39,
     "metadata": {},
     "output_type": "execute_result"
    }
   ],
   "source": [
    "(unlessyougot.sum(axis=1)>0).mean()"
   ]
  },
  {
   "cell_type": "code",
   "execution_count": 41,
   "id": "ce563270",
   "metadata": {},
   "outputs": [
    {
     "data": {
      "text/plain": [
       "array([[0, 0, 0, ..., 0, 0, 0],\n",
       "       [0, 0, 0, ..., 0, 0, 0],\n",
       "       [0, 0, 0, ..., 0, 0, 0],\n",
       "       ...,\n",
       "       [0, 0, 0, ..., 0, 0, 0],\n",
       "       [0, 0, 0, ..., 0, 0, 0],\n",
       "       [0, 0, 0, ..., 0, 0, 0]])"
      ]
     },
     "execution_count": 41,
     "metadata": {},
     "output_type": "execute_result"
    }
   ],
   "source": [
    "# How likely is it that 450 students all download anaconda without an issue?\n",
    "\n",
    "\n",
    "# A:\n",
    "\n",
    "installationissues_hon= np.random.choice([0,1], size = (1000,450), p=[249/250, 1/250])\n",
    "installationissues_hon"
   ]
  },
  {
   "cell_type": "code",
   "execution_count": 51,
   "id": "d08cb7ee",
   "metadata": {},
   "outputs": [
    {
     "data": {
      "text/plain": [
       "0.173"
      ]
     },
     "execution_count": 51,
     "metadata": {},
     "output_type": "execute_result"
    }
   ],
   "source": [
    "(installationissues_hon.sum(axis=1) ==0).mean()\n",
    "\n"
   ]
  },
  {
   "cell_type": "code",
   "execution_count": 138,
   "id": "5b58389f",
   "metadata": {},
   "outputs": [
    {
     "data": {
      "text/plain": [
       "array([[1, 1, 1],\n",
       "       [1, 1, 0],\n",
       "       [0, 0, 0],\n",
       "       ...,\n",
       "       [1, 0, 1],\n",
       "       [1, 0, 1],\n",
       "       [0, 1, 1]])"
      ]
     },
     "execution_count": 138,
     "metadata": {},
     "output_type": "execute_result"
    }
   ],
   "source": [
    "# There's a 70% chance on any given day that there will be at least one food truck at \n",
    "# Travis Park. However, you haven't seen a food truck there in 3 days. How unlikely is this?\n",
    "\n",
    "foodtruckfridays = np.random.choice([0,1],size = (1000,3))\n",
    "foodtruckfridays"
   ]
  },
  {
   "cell_type": "code",
   "execution_count": 142,
   "id": "88873154",
   "metadata": {},
   "outputs": [
    {
     "data": {
      "text/plain": [
       "array([[ True,  True,  True],\n",
       "       [ True,  True, False],\n",
       "       [False, False, False],\n",
       "       ...,\n",
       "       [ True, False,  True],\n",
       "       [ True, False,  True],\n",
       "       [False,  True,  True]])"
      ]
     },
     "execution_count": 142,
     "metadata": {},
     "output_type": "execute_result"
    }
   ],
   "source": [
    "onsight = (foodtruckfridays >= .7)\n",
    "onsight"
   ]
  },
  {
   "cell_type": "code",
   "execution_count": 143,
   "id": "b08de724",
   "metadata": {},
   "outputs": [
    {
     "data": {
      "text/plain": [
       "array([3, 2, 0, 1, 2, 1, 1, 3, 0, 2, 2, 2, 2, 3, 0, 3, 0, 1, 2, 1, 2, 1,\n",
       "       3, 1, 2, 0, 0, 1, 1, 1, 2, 3, 1, 0, 1, 2, 3, 0, 3, 2, 0, 1, 3, 2,\n",
       "       1, 1, 0, 2, 2, 1, 2, 2, 2, 1, 2, 2, 2, 2, 1, 2, 2, 1, 1, 1, 1, 3,\n",
       "       1, 3, 2, 1, 2, 3, 2, 3, 2, 2, 3, 0, 2, 2, 1, 2, 3, 0, 2, 1, 2, 3,\n",
       "       2, 1, 3, 1, 1, 1, 2, 3, 1, 1, 1, 1, 2, 2, 1, 1, 1, 1, 0, 1, 1, 2,\n",
       "       2, 1, 1, 2, 1, 3, 2, 1, 2, 3, 3, 2, 3, 2, 0, 2, 2, 1, 2, 0, 3, 1,\n",
       "       2, 2, 1, 2, 2, 3, 0, 0, 1, 2, 1, 1, 2, 2, 3, 1, 1, 1, 0, 1, 2, 1,\n",
       "       2, 2, 2, 2, 2, 1, 1, 1, 2, 0, 1, 2, 0, 2, 1, 0, 1, 1, 1, 1, 3, 2,\n",
       "       2, 1, 0, 0, 1, 1, 2, 1, 1, 3, 2, 1, 3, 2, 3, 1, 2, 1, 1, 1, 2, 1,\n",
       "       2, 3, 0, 2, 3, 1, 1, 1, 2, 1, 1, 3, 2, 3, 1, 1, 1, 2, 3, 2, 3, 2,\n",
       "       1, 1, 2, 1, 2, 1, 1, 1, 3, 2, 1, 0, 2, 2, 2, 2, 1, 2, 3, 1, 1, 1,\n",
       "       3, 0, 0, 2, 1, 2, 0, 2, 2, 2, 1, 1, 2, 1, 2, 1, 3, 2, 3, 3, 3, 1,\n",
       "       1, 1, 2, 2, 0, 2, 1, 2, 3, 1, 2, 1, 2, 1, 1, 2, 1, 2, 2, 0, 1, 1,\n",
       "       2, 0, 2, 2, 1, 1, 1, 2, 2, 1, 2, 2, 1, 1, 1, 3, 1, 3, 0, 0, 2, 3,\n",
       "       2, 0, 3, 2, 1, 2, 1, 2, 1, 2, 2, 0, 2, 1, 2, 1, 3, 3, 1, 2, 2, 2,\n",
       "       0, 0, 3, 1, 3, 2, 3, 2, 3, 1, 1, 2, 0, 1, 2, 2, 3, 2, 2, 2, 1, 2,\n",
       "       3, 2, 2, 1, 1, 1, 2, 1, 2, 1, 0, 1, 1, 0, 1, 1, 2, 1, 2, 2, 1, 3,\n",
       "       2, 1, 1, 0, 1, 2, 1, 1, 0, 1, 2, 3, 3, 2, 2, 3, 1, 3, 0, 3, 1, 1,\n",
       "       0, 1, 2, 1, 1, 2, 2, 2, 1, 1, 3, 1, 0, 3, 0, 3, 1, 1, 3, 1, 1, 1,\n",
       "       1, 1, 2, 2, 1, 2, 2, 1, 1, 1, 3, 2, 2, 1, 1, 1, 1, 1, 2, 3, 3, 2,\n",
       "       2, 1, 1, 0, 0, 1, 0, 0, 0, 2, 0, 1, 1, 1, 2, 1, 1, 0, 1, 1, 0, 0,\n",
       "       1, 1, 2, 0, 2, 3, 2, 0, 2, 2, 0, 0, 2, 1, 2, 0, 1, 3, 3, 1, 2, 1,\n",
       "       3, 1, 1, 1, 1, 1, 2, 2, 2, 1, 2, 1, 2, 1, 2, 0, 2, 3, 1, 2, 2, 2,\n",
       "       2, 1, 2, 1, 2, 1, 2, 2, 2, 1, 2, 1, 1, 1, 2, 3, 2, 1, 0, 3, 3, 1,\n",
       "       1, 2, 1, 2, 2, 2, 3, 2, 1, 1, 0, 2, 1, 3, 1, 2, 0, 2, 2, 0, 1, 1,\n",
       "       2, 1, 1, 3, 2, 1, 1, 2, 2, 3, 2, 2, 1, 1, 1, 2, 1, 2, 2, 0, 2, 1,\n",
       "       0, 2, 3, 2, 1, 1, 1, 0, 1, 2, 0, 0, 0, 0, 1, 1, 2, 3, 2, 1, 2, 0,\n",
       "       2, 1, 0, 2, 1, 1, 2, 1, 2, 1, 1, 2, 2, 2, 1, 3, 1, 1, 1, 1, 3, 0,\n",
       "       1, 1, 2, 1, 3, 1, 1, 1, 1, 3, 0, 0, 1, 2, 0, 2, 2, 0, 0, 1, 1, 0,\n",
       "       2, 1, 1, 0, 1, 2, 2, 3, 2, 1, 2, 2, 1, 2, 2, 2, 2, 2, 2, 3, 2, 1,\n",
       "       3, 2, 1, 3, 2, 2, 2, 1, 2, 0, 1, 2, 2, 1, 0, 1, 1, 1, 2, 1, 0, 2,\n",
       "       1, 3, 2, 2, 1, 1, 3, 2, 2, 2, 3, 1, 3, 3, 1, 0, 1, 2, 2, 2, 3, 3,\n",
       "       3, 1, 2, 1, 0, 2, 0, 2, 1, 1, 1, 2, 1, 2, 2, 0, 1, 1, 2, 1, 1, 0,\n",
       "       1, 1, 1, 2, 2, 2, 2, 2, 2, 2, 1, 2, 3, 2, 1, 2, 3, 1, 1, 3, 1, 0,\n",
       "       3, 1, 1, 2, 3, 0, 1, 2, 1, 1, 1, 1, 0, 0, 1, 1, 0, 2, 1, 1, 2, 1,\n",
       "       1, 1, 1, 0, 0, 1, 2, 2, 1, 0, 1, 3, 3, 3, 2, 1, 1, 2, 2, 0, 3, 3,\n",
       "       2, 1, 1, 0, 2, 0, 1, 2, 0, 2, 2, 3, 2, 2, 1, 3, 1, 2, 2, 0, 1, 1,\n",
       "       3, 0, 2, 1, 2, 0, 0, 0, 2, 1, 0, 2, 2, 2, 0, 0, 0, 3, 1, 2, 1, 0,\n",
       "       1, 0, 0, 1, 0, 2, 3, 1, 0, 2, 2, 3, 3, 1, 1, 0, 3, 3, 2, 2, 1, 1,\n",
       "       2, 1, 2, 0, 0, 1, 2, 2, 1, 2, 2, 1, 2, 2, 2, 1, 2, 2, 3, 2, 1, 1,\n",
       "       2, 3, 3, 2, 2, 1, 1, 0, 2, 2, 3, 1, 2, 0, 2, 3, 1, 2, 1, 1, 2, 2,\n",
       "       2, 2, 2, 1, 2, 1, 1, 1, 0, 1, 2, 1, 2, 3, 2, 0, 1, 2, 1, 1, 1, 1,\n",
       "       1, 1, 2, 2, 2, 1, 1, 2, 2, 3, 1, 1, 3, 1, 1, 3, 1, 3, 1, 1, 2, 0,\n",
       "       2, 2, 1, 2, 1, 2, 1, 0, 3, 3, 3, 0, 0, 2, 1, 2, 2, 2, 0, 0, 1, 2,\n",
       "       0, 3, 2, 2, 3, 2, 1, 2, 1, 1, 1, 1, 2, 0, 2, 3, 2, 1, 1, 2, 1, 2,\n",
       "       1, 2, 2, 2, 1, 1, 1, 2, 2, 2])"
      ]
     },
     "execution_count": 143,
     "metadata": {},
     "output_type": "execute_result"
    }
   ],
   "source": [
    "onsight.sum(axis=1)"
   ]
  },
  {
   "cell_type": "code",
   "execution_count": 10,
   "id": "9217f53b",
   "metadata": {},
   "outputs": [
    {
     "ename": "NameError",
     "evalue": "name 'onsight' is not defined",
     "output_type": "error",
     "traceback": [
      "\u001b[0;31m---------------------------------------------------------------------------\u001b[0m",
      "\u001b[0;31mNameError\u001b[0m                                 Traceback (most recent call last)",
      "\u001b[0;32m/var/folders/3f/gcykrn_x5kj_vxldk0lkx7p00000gn/T/ipykernel_92750/3462945229.py\u001b[0m in \u001b[0;36m<module>\u001b[0;34m\u001b[0m\n\u001b[0;32m----> 1\u001b[0;31m \u001b[0;34m(\u001b[0m\u001b[0monsight\u001b[0m\u001b[0;34m.\u001b[0m\u001b[0msum\u001b[0m\u001b[0;34m(\u001b[0m\u001b[0maxis\u001b[0m\u001b[0;34m=\u001b[0m\u001b[0;36m1\u001b[0m\u001b[0;34m)\u001b[0m \u001b[0;34m==\u001b[0m \u001b[0;36m1\u001b[0m\u001b[0;34m)\u001b[0m\u001b[0;34m.\u001b[0m\u001b[0mmean\u001b[0m\u001b[0;34m(\u001b[0m\u001b[0;34m)\u001b[0m\u001b[0;34m\u001b[0m\u001b[0;34m\u001b[0m\u001b[0m\n\u001b[0m",
      "\u001b[0;31mNameError\u001b[0m: name 'onsight' is not defined"
     ]
    }
   ],
   "source": [
    "(onsight.sum(axis=1) == 1).mean()"
   ]
  },
  {
   "cell_type": "code",
   "execution_count": 198,
   "id": "492b74bf",
   "metadata": {},
   "outputs": [
    {
     "data": {
      "text/plain": [
       "array([[104, 288, 327, ..., 303, 153, 113],\n",
       "       [238, 290,  73, ..., 353,   5, 282],\n",
       "       [279, 148, 325, ...,  49, 203, 340],\n",
       "       ...,\n",
       "       [ 19,  94,  98, ..., 199,  45, 250],\n",
       "       [353,  28, 178, ..., 297, 241, 343],\n",
       "       [192, 172,  85, ..., 263, 150, 236]])"
      ]
     },
     "execution_count": 198,
     "metadata": {},
     "output_type": "execute_result"
    }
   ],
   "source": [
    "# If 23 people are in the same room, what are the odds that two of them share a birthday?\n",
    "# What if it's 20 people? 40?\n",
    "\n",
    "#I need to account for all 365 days of the year, so maybe a range\n",
    "goshawty= np.random.choice(range(1,366), size=(10000,23))\n",
    "goshawty"
   ]
  },
  {
   "cell_type": "code",
   "execution_count": 199,
   "id": "ec5847ef",
   "metadata": {},
   "outputs": [
    {
     "data": {
      "text/plain": [
       "0       23\n",
       "1       23\n",
       "2       23\n",
       "3       20\n",
       "4       23\n",
       "        ..\n",
       "9995    23\n",
       "9996    23\n",
       "9997    22\n",
       "9998    23\n",
       "9999    22\n",
       "Length: 10000, dtype: int64"
      ]
     },
     "execution_count": 199,
     "metadata": {},
     "output_type": "execute_result"
    }
   ],
   "source": [
    "itsyourbirthday= pd.DataFrame(goshawty).nunique(axis =1)\n",
    "itsyourbirthday"
   ]
  },
  {
   "cell_type": "code",
   "execution_count": 204,
   "id": "fabd105b",
   "metadata": {},
   "outputs": [
    {
     "data": {
      "text/plain": [
       "0.5054"
      ]
     },
     "execution_count": 204,
     "metadata": {},
     "output_type": "execute_result"
    }
   ],
   "source": [
    "(itsyourbirthday !=23).mean()"
   ]
  },
  {
   "cell_type": "code",
   "execution_count": 195,
   "id": "eb49da29",
   "metadata": {},
   "outputs": [
    {
     "data": {
      "text/plain": [
       "array([[ 45, 143, 112, ...,  43, 344,  34],\n",
       "       [ 83, 323, 310, ..., 226, 239, 239],\n",
       "       [224, 239, 196, ...,  51, 362, 100],\n",
       "       ...,\n",
       "       [279, 221, 310, ..., 165,  57,  56],\n",
       "       [102, 174, 182, ..., 144, 124, 251],\n",
       "       [229, 329,  65, ..., 302,   2, 250]])"
      ]
     },
     "execution_count": 195,
     "metadata": {},
     "output_type": "execute_result"
    }
   ],
   "source": [
    "wegonparty= np.random.choice(range(1,366), size=(10000,20))\n",
    "wegonparty"
   ]
  },
  {
   "cell_type": "code",
   "execution_count": 196,
   "id": "a67b562e",
   "metadata": {},
   "outputs": [
    {
     "data": {
      "text/plain": [
       "0       20\n",
       "1       19\n",
       "2       20\n",
       "3       20\n",
       "4       20\n",
       "        ..\n",
       "9995    19\n",
       "9996    20\n",
       "9997    20\n",
       "9998    19\n",
       "9999    20\n",
       "Length: 10000, dtype: int64"
      ]
     },
     "execution_count": 196,
     "metadata": {},
     "output_type": "execute_result"
    }
   ],
   "source": [
    "likeitsyourbday= pd.DataFrame(wegonparty).nunique(axis =1)\n",
    "likeitsyourbday"
   ]
  },
  {
   "cell_type": "code",
   "execution_count": 197,
   "id": "ebd9e57e",
   "metadata": {},
   "outputs": [
    {
     "data": {
      "text/plain": [
       "0.4129"
      ]
     },
     "execution_count": 197,
     "metadata": {},
     "output_type": "execute_result"
    }
   ],
   "source": [
    "# 20 people\n",
    "\n",
    "(likeitsyourbday != 20).mean()"
   ]
  },
  {
   "cell_type": "code",
   "execution_count": 192,
   "id": "64f8e9b8",
   "metadata": {},
   "outputs": [
    {
     "data": {
      "text/plain": [
       "array([[351, 236, 156, ..., 329,  87, 262],\n",
       "       [ 21, 198,  42, ..., 324, 285, 252],\n",
       "       [ 73,  61,  46, ..., 193,  49,  13],\n",
       "       ...,\n",
       "       [208, 325, 235, ...,  30, 298, 210],\n",
       "       [243, 154,  85, ..., 205, 258, 268],\n",
       "       [262, 201, 343, ..., 219,  47, 274]])"
      ]
     },
     "execution_count": 192,
     "metadata": {},
     "output_type": "execute_result"
    }
   ],
   "source": [
    "gonnasip = np.random.choice(range(1,366), size=(10000,40))\n",
    "gonnasip"
   ]
  },
  {
   "cell_type": "code",
   "execution_count": 193,
   "id": "9476ed7c",
   "metadata": {},
   "outputs": [
    {
     "data": {
      "text/plain": [
       "0       39\n",
       "1       38\n",
       "2       36\n",
       "3       36\n",
       "4       38\n",
       "        ..\n",
       "9995    39\n",
       "9996    37\n",
       "9997    40\n",
       "9998    39\n",
       "9999    38\n",
       "Length: 10000, dtype: int64"
      ]
     },
     "execution_count": 193,
     "metadata": {},
     "output_type": "execute_result"
    }
   ],
   "source": [
    "bacardi = pd.DataFrame(gonnasip).nunique(axis =1)\n",
    "bacardi"
   ]
  },
  {
   "cell_type": "code",
   "execution_count": 194,
   "id": "562a914a",
   "metadata": {},
   "outputs": [
    {
     "data": {
      "text/plain": [
       "0.8921"
      ]
     },
     "execution_count": 194,
     "metadata": {},
     "output_type": "execute_result"
    }
   ],
   "source": [
    "#40 people:\n",
    "\n",
    "(bacardi != 40).mean()"
   ]
  }
 ],
 "metadata": {
  "kernelspec": {
   "display_name": "Python 3 (ipykernel)",
   "language": "python",
   "name": "python3"
  },
  "language_info": {
   "codemirror_mode": {
    "name": "ipython",
    "version": 3
   },
   "file_extension": ".py",
   "mimetype": "text/x-python",
   "name": "python",
   "nbconvert_exporter": "python",
   "pygments_lexer": "ipython3",
   "version": "3.9.13"
  }
 },
 "nbformat": 4,
 "nbformat_minor": 5
}
